{
 "cells": [
  {
   "cell_type": "markdown",
   "metadata": {
    "id": "4owzMAE48vuE"
   },
   "source": [
    "# Fine-Tuning with Foundation Model (BERT) Using NeMo\n",
    "Now, it's time for you to take the reins! In this section, you will have the opportunity to experience the process of loading your own foundation model, fine-tuning it for a specific downstream task, and performing inference! Let's roll up our sleeves and start NeMo-ing away!"
   ]
  },
  {
   "cell_type": "markdown",
   "metadata": {
    "id": "LPocsTqpC9IX"
   },
   "source": [
    "In our lecture on the Foundation Model, we discussed how a model can be fine-tuned for various downstream tasks.\n",
    "> Our specific task will be **Sentiment Analysis**. Sentiment Analysis involves detecting the sentiment or emotional tone expressed in a piece of text. For example, `Just got promoted at work and feeling good!` has a positive sentiment while `Lost my wallet today. Feeling frustrated and worried.` has a negative sentiment."
   ]
  },
  {
   "cell_type": "markdown",
   "metadata": {
    "id": "p2uGMvJnDsuH"
   },
   "source": [
    "In NeMo, We can simplify this problem by treating it as a text classification task.<br><br><br>"
   ]
  },
  {
   "cell_type": "markdown",
   "metadata": {
    "id": "1fJOn_egGQO-"
   },
   "source": [
    "## Setup and Load NeMo\n",
    "Our first most important step is to setup NeMo! Since we will be doing model training, also check if NVIDIA GPU is enabled!\n",
    "*Information to setup and additional details from: https://github.com/NVIDIA/NeMo*\n",
    "<br>\n",
    "1. Setup NeMo (already installed)\n",
    "2. Load NeMo and dependencies\n",
    "3. Check your NeMo version\n",
    "4. Check if GPU is enabled"
   ]
  },
  {
   "cell_type": "markdown",
   "metadata": {},
   "source": [
    "We can skip the installation step since NeMo is already pre-installed!"
   ]
  },
  {
   "cell_type": "code",
   "execution_count": 27,
   "metadata": {},
   "outputs": [],
   "source": [
    "### Setup NeMo\n",
    "# you will need to specify BRANCH to download data from github repo for later on!\n",
    "BRANCH = 'main' \n",
    "# !python -m pip install -q git+https://github.com/NVIDIA/NeMo.git@$BRANCH#egg=nemo_toolkit[nlp]"
   ]
  },
  {
   "cell_type": "code",
   "execution_count": 28,
   "metadata": {
    "colab": {
     "base_uri": "https://localhost:8080/"
    },
    "id": "HU1yqekLGZ6H",
    "outputId": "756c9aab-4c9b-4452-a7bc-e902fdc0ec26"
   },
   "outputs": [],
   "source": [
    "# Load NeMo and dependencies\n",
    "import nemo\n",
    "from nemo.collections import nlp as nemo_nlp\n",
    "from nemo.utils.exp_manager import exp_manager  # TAKE NOTE!\n",
    "\n",
    "import os\n",
    "import wget\n",
    "import torch\n",
    "import pytorch_lightning as pl\n",
    "from omegaconf import OmegaConf"
   ]
  },
  {
   "cell_type": "code",
   "execution_count": 29,
   "metadata": {},
   "outputs": [
    {
     "data": {
      "text/plain": [
       "'1.22.0'"
      ]
     },
     "execution_count": 29,
     "metadata": {},
     "output_type": "execute_result"
    }
   ],
   "source": [
    "# Check your NeMo version\n",
    "\n",
    "nemo.__version__"
   ]
  },
  {
   "cell_type": "code",
   "execution_count": 30,
   "metadata": {
    "colab": {
     "base_uri": "https://localhost:8080/"
    },
    "id": "-9gg9-MWGb_n",
    "outputId": "8a43fe0c-ebc5-4934-a23a-32c1b65b8a9d"
   },
   "outputs": [
    {
     "name": "stdout",
     "output_type": "stream",
     "text": [
      "Wed May  1 17:31:39 2024       \n",
      "+-----------------------------------------------------------------------------+\n",
      "| NVIDIA-SMI 525.105.17   Driver Version: 525.105.17   CUDA Version: 12.2     |\n",
      "|-------------------------------+----------------------+----------------------+\n",
      "| GPU  Name        Persistence-M| Bus-Id        Disp.A | Volatile Uncorr. ECC |\n",
      "| Fan  Temp  Perf  Pwr:Usage/Cap|         Memory-Usage | GPU-Util  Compute M. |\n",
      "|                               |                      |               MIG M. |\n",
      "|===============================+======================+======================|\n",
      "|   0  NVIDIA A10-24Q      On   | 00000002:00:00.0 Off |                    0 |\n",
      "| N/A   N/A    P8    N/A /  N/A |    290MiB / 24512MiB |      0%      Default |\n",
      "|                               |                      |             Disabled |\n",
      "+-------------------------------+----------------------+----------------------+\n",
      "                                                                               \n",
      "+-----------------------------------------------------------------------------+\n",
      "| Processes:                                                                  |\n",
      "|  GPU   GI   CI        PID   Type   Process name                  GPU Memory |\n",
      "|        ID   ID                                                   Usage      |\n",
      "|=============================================================================|\n",
      "+-----------------------------------------------------------------------------+\n"
     ]
    }
   ],
   "source": [
    "# Check if GPU is enabled\n",
    "!nvidia-smi"
   ]
  },
  {
   "cell_type": "markdown",
   "metadata": {
    "id": "aDwEF0WOGBN5"
   },
   "source": [
    "<br><br><br>\n",
    "\n",
    "## Dataset\n",
    "We going to use [The Stanford Sentiment Treebank (SST-2)](https://nlp.stanford.edu/sentiment/index.html) corpus for sentiment analysis. This version of the dataset contains a collection of sentences with binary labels of positive and negative. It is a standard benchmark for sentence classification and is part of the GLUE Benchmark: https://gluebenchmark.com/tasks. Please download and unzip the SST-2 dataset from GLUE. It should contain three files of train.tsv, dev.tsv, and test.tsv which can be used for training, validation, and test respectively.\n",
    "\n"
   ]
  },
  {
   "cell_type": "markdown",
   "metadata": {
    "id": "yizYhBwaNrjK"
   },
   "source": [
    "### Download Dataset\n",
    "\n",
    "First, we need to prepare the environment for working with the dataset by defining our data and work directory."
   ]
  },
  {
   "cell_type": "code",
   "execution_count": 31,
   "metadata": {
    "id": "zoxmfxtDNrC7"
   },
   "outputs": [],
   "source": [
    "# Prepare the environment for working with the dataset\n",
    "\n",
    "DATA_DIR = \"DATA_DIR\"\n",
    "WORK_DIR = \"WORK_DIR\"\n",
    "os.environ['DATA_DIR'] = DATA_DIR\n",
    "os.makedirs(WORK_DIR, exist_ok=True)\n",
    "os.makedirs(DATA_DIR, exist_ok=True)"
   ]
  },
  {
   "cell_type": "markdown",
   "metadata": {
    "id": "_6T7uFgzKIL8"
   },
   "source": [
    "\n",
    "- Download the `SST-2` .zip file dataset from https://dl.fbaipublicfiles.com/glue/data/SST-2.zip\n",
    "\n",
    "Since it is a .zip file, execute the cell box to unzip dataset and perform some preprocessing steps to format the dataset appropriately for NeMo. Our `training_nemo_format.tsv` and `dev_nemo_format.tsv` are the training and testing dataset for our model to train and evaluate on later!"
   ]
  },
  {
   "cell_type": "code",
   "execution_count": 32,
   "metadata": {
    "colab": {
     "base_uri": "https://localhost:8080/"
    },
    "id": "bC5SjglHGFG9",
    "outputId": "b3695624-6db5-42da-f1c2-724a901506e2"
   },
   "outputs": [
    {
     "name": "stdout",
     "output_type": "stream",
     "text": [
      "--2024-05-01 17:31:40--  https://dl.fbaipublicfiles.com/glue/data/SST-2.zip\n",
      "Resolving dl.fbaipublicfiles.com (dl.fbaipublicfiles.com)... 108.157.254.124, 108.157.254.102, 108.157.254.15, ...\n",
      "Connecting to dl.fbaipublicfiles.com (dl.fbaipublicfiles.com)|108.157.254.124|:443... connected.\n",
      "HTTP request sent, awaiting response... 200 OK\n",
      "Length: 7439277 (7.1M) [application/zip]\n",
      "Saving to: ‘SST-2.zip.2’\n",
      "\n",
      "SST-2.zip.2         100%[===================>]   7.09M  --.-KB/s    in 0.02s   \n",
      "\n",
      "2024-05-01 17:31:40 (297 MB/s) - ‘SST-2.zip.2’ saved [7439277/7439277]\n",
      "\n",
      "Archive:  SST-2.zip\n",
      "  inflating: DATA_DIR/SST-2/dev.tsv  \n",
      "  inflating: DATA_DIR/SST-2/original/README.txt  \n",
      "  inflating: DATA_DIR/SST-2/original/SOStr.txt  \n",
      "  inflating: DATA_DIR/SST-2/original/STree.txt  \n",
      "  inflating: DATA_DIR/SST-2/original/datasetSentences.txt  \n",
      "  inflating: DATA_DIR/SST-2/original/datasetSplit.txt  \n",
      "  inflating: DATA_DIR/SST-2/original/dictionary.txt  \n",
      "  inflating: DATA_DIR/SST-2/original/original_rt_snippets.txt  \n",
      "  inflating: DATA_DIR/SST-2/original/sentiment_labels.txt  \n",
      "  inflating: DATA_DIR/SST-2/test.tsv  \n",
      "  inflating: DATA_DIR/SST-2/train.tsv  \n"
     ]
    }
   ],
   "source": [
    "# Download the SST-2 dataset, unzip and preprocess the dataset\n",
    "\n",
    "!wget https://dl.fbaipublicfiles.com/glue/data/SST-2.zip\n",
    "!unzip -o SST-2.zip -d {DATA_DIR}\n",
    "!sed 1d {DATA_DIR}/SST-2/train.tsv > {DATA_DIR}/SST-2/train_nemo_format.tsv\n",
    "!sed 1d {DATA_DIR}/SST-2/dev.tsv > {DATA_DIR}/SST-2/dev_nemo_format.tsv"
   ]
  },
  {
   "cell_type": "markdown",
   "metadata": {
    "id": "4DTmSNPUKKKo"
   },
   "source": [
    "### Explore Dataset\n",
    "\n",
    "We want to better understand what data we are working with, so let's take a look at the dataset!\n",
    "\n",
    "\n",
    "- Check dataset folder in directory\n",
    "- Inspect first 5 lines of train and test dataset"
   ]
  },
  {
   "cell_type": "code",
   "execution_count": 33,
   "metadata": {
    "colab": {
     "base_uri": "https://localhost:8080/"
    },
    "id": "q-iAhTPtPbME",
    "outputId": "1956a434-5d37-4142-d28e-e3480b4d6760"
   },
   "outputs": [
    {
     "name": "stdout",
     "output_type": "stream",
     "text": [
      "total 38232\n",
      "-rw-r--r-- 1 root root   677859 May  1 17:31 cached_dev_nemo_format.tsv_RobertaTokenizer_256_50265_-1_1_False.pkl\n",
      "-rw-r--r-- 1 root root 30447299 May  1 17:27 cached_train_nemo_format.tsv_RobertaTokenizer_256_50265_-1_1_True.pkl\n",
      "-rw-rw-r-- 1 root root    94931 May  2  2018 dev.tsv\n",
      "-rw-r--r-- 1 root root    94916 May  1 17:31 dev_nemo_format.tsv\n",
      "drwxr-xr-x 2 root root     4096 May  1 17:31 original\n",
      "-rw-rw-r-- 1 root root   197335 May  2  2018 test.tsv\n",
      "-rw-rw-r-- 1 root root  3806081 May  2  2018 train.tsv\n",
      "-rw-r--r-- 1 root root  3806066 May  1 17:31 train_nemo_format.tsv\n"
     ]
    }
   ],
   "source": [
    "# check dataset folder in directory\n",
    "\n",
    "!ls -l {DATA_DIR}/SST-2"
   ]
  },
  {
   "cell_type": "code",
   "execution_count": 34,
   "metadata": {
    "colab": {
     "base_uri": "https://localhost:8080/"
    },
    "id": "7kub_9QuKGhJ",
    "outputId": "f2927df7-83bb-4556-fea9-7e7a4f039203"
   },
   "outputs": [
    {
     "name": "stdout",
     "output_type": "stream",
     "text": [
      "\n",
      "Contents (first 5 lines) of train.tsv:\n",
      "\n",
      "hide new secretions from the parental units \t0\n",
      "contains no wit , only labored gags \t0\n",
      "that loves its characters and communicates something rather beautiful about human nature \t1\n",
      "remains utterly satisfied to remain the same throughout \t0\n",
      "on the worst revenge-of-the-nerds clichés the filmmakers could dredge up \t0\n",
      "\n",
      "Contents (first 5 lines) of test.tsv:\n",
      "\n",
      "it 's a charming and often affecting journey . \t1\n",
      "unflinchingly bleak and desperate \t0\n",
      "allows us to hope that nolan is poised to embark a major career as a commercial yet inventive filmmaker . \t1\n",
      "the acting , costumes , music , cinematography and sound are all astounding given the production 's austere locales . \t1\n",
      "it 's slow -- very , very slow . \t0\n"
     ]
    }
   ],
   "source": [
    "# Inspect train and test dataset\n",
    "\n",
    "print('\\nContents (first 5 lines) of train.tsv:\\n')\n",
    "!head -n 5 {DATA_DIR}/SST-2/train_nemo_format.tsv\n",
    "\n",
    "print('\\nContents (first 5 lines) of test.tsv:\\n')\n",
    "!head -n 5 {DATA_DIR}/SST-2/dev_nemo_format.tsv"
   ]
  },
  {
   "cell_type": "markdown",
   "metadata": {
    "id": "Za81tPQ-QJIy"
   },
   "source": [
    "<br><br><br>\n",
    "\n",
    "## Create Model/Training Configuration\n",
    "\n",
    "In the previous part, we covered the basics of NeMo, where we demonstrated how to load a model and make modifications to its configuration. Now, let's explore an alternative approach where we create the model's configuration and experiment manager (*we talked about this before!*) before instantiating or loading a pretrained model. NeMo offers flexibility in various ways to things in its workflow.\n",
    "\n",
    "Here, we set up all the configuration that will be used by the Trainer when we train the model later on. The *model is defined in a config file which declares multiple important sections*. The most important ones are:\n",
    "- **model**: All arguments that are related to the Model - language model, tokenizer, head classifier, optimizer, schedulers, and datasets/data loaders.\n",
    "\n",
    "- **trainer**: Any argument to be passed to PyTorch Lightning including number of epochs, number of GPUs, precision level, etc.<br><br>\n",
    "\n",
    "\n",
    "\n",
    "\n"
   ]
  },
  {
   "cell_type": "markdown",
   "metadata": {
    "id": "PiPGwFvQZ54e"
   },
   "source": [
    "### Download Configuration File\n",
    "(The config directory and path has been set for you!)\n",
    "- Download configuration file\n"
   ]
  },
  {
   "cell_type": "code",
   "execution_count": 35,
   "metadata": {
    "colab": {
     "base_uri": "https://localhost:8080/"
    },
    "id": "VBt047qnQCOy",
    "outputId": "252a9865-ce19-4ce7-8c0a-13c6a8b8ced4"
   },
   "outputs": [
    {
     "name": "stdout",
     "output_type": "stream",
     "text": [
      "config file already exists\n",
      "WORK_DIR/configs/text_classification_config.yaml\n"
     ]
    }
   ],
   "source": [
    "# download the text classification configuration file\n",
    "MODEL_CONFIG = \"text_classification_config.yaml\"\n",
    "CONFIG_DIR = WORK_DIR + '/configs/'\n",
    "\n",
    "os.makedirs(CONFIG_DIR, exist_ok=True)\n",
    "if not os.path.exists(CONFIG_DIR + MODEL_CONFIG):\n",
    "    print('Downloading config file...')\n",
    "    wget.download(f'https://raw.githubusercontent.com/NVIDIA/NeMo/{BRANCH}/examples/nlp/text_classification/conf/' + MODEL_CONFIG, CONFIG_DIR)\n",
    "    print('Config file downloaded!')\n",
    "else:\n",
    "    print ('config file already exists')\n",
    "config_path = f'{WORK_DIR}/configs/{MODEL_CONFIG}'\n",
    "print(config_path)\n",
    "config = OmegaConf.load(config_path)"
   ]
  },
  {
   "cell_type": "markdown",
   "metadata": {
    "id": "mwB7Kfe8aB3Q"
   },
   "source": [
    "### Prepare Configuration\n",
    "Now, we will make changes to the configuration as required for our model/task.\n",
    "\n",
    "- Set the number of classes for sentiment analysis (*hint: how many classes does SST-2 have?*)\n",
    "- Set other model parameters e.g. epochs"
   ]
  },
  {
   "cell_type": "code",
   "execution_count": 36,
   "metadata": {
    "id": "K3LUBFc3aJOI"
   },
   "outputs": [],
   "source": [
    "# Set the number of classes for sentiment analysis (hint: how many classes does SST-2 have)\n",
    "config.model.dataset.num_classes= 2\n",
    "config.model.train_ds.file_path = os.path.join(DATA_DIR, 'SST-2/train_nemo_format.tsv')\n",
    "config.model.train_ds.batch_size = 128\n",
    "config.model.train_ds.num_workers = 2\n",
    "config.model.validation_ds.file_path = os.path.join(DATA_DIR, 'SST-2/dev_nemo_format.tsv')\n",
    "config.model.validation_ds.batch_size = 128\n",
    "config.model.validation_ds.num_workers = 2\n",
    "\n",
    "\n",
    "# Name of the .nemo file where trained model will be saved.\n",
    "config.save_to = 'trained-model.nemo'\n",
    "config.export_to = 'trained-model.onnx'\n",
    "\n",
    "# Training stops when max_step or max_epochs is reached (earliest)\n",
    "config.trainer.max_epochs = 2"
   ]
  },
  {
   "cell_type": "markdown",
   "metadata": {
    "id": "ghmBuz5uVLJ3"
   },
   "source": [
    "- Inspect train dataloader, test dataloader, and trainer config"
   ]
  },
  {
   "cell_type": "code",
   "execution_count": 37,
   "metadata": {
    "colab": {
     "base_uri": "https://localhost:8080/"
    },
    "id": "2J1pb523QCMc",
    "outputId": "3b71f637-f3e2-4bdb-becf-148a4bd1d1f8"
   },
   "outputs": [
    {
     "name": "stdout",
     "output_type": "stream",
     "text": [
      "Train dataloader: file_path: DATA_DIR/SST-2/train_nemo_format.tsv\n",
      "batch_size: 128\n",
      "shuffle: true\n",
      "num_samples: -1\n",
      "num_workers: 2\n",
      "drop_last: false\n",
      "pin_memory: false\n",
      "\n",
      "Train dataset:\n",
      " num_classes: 2\n",
      "do_lower_case: false\n",
      "max_seq_length: 256\n",
      "class_balancing: null\n",
      "use_cache: false\n",
      "\n",
      "Trainer config:\n",
      " devices: 1\n",
      "num_nodes: 1\n",
      "max_epochs: 2\n",
      "max_steps: -1\n",
      "accumulate_grad_batches: 1\n",
      "gradient_clip_val: 0.0\n",
      "precision: 32\n",
      "accelerator: gpu\n",
      "log_every_n_steps: 1\n",
      "val_check_interval: 1.0\n",
      "num_sanity_val_steps: 0\n",
      "enable_checkpointing: false\n",
      "logger: false\n",
      "\n"
     ]
    }
   ],
   "source": [
    "# Inspect config\n",
    "# OmegaConf.to_yaml() is used to create a proper format for printing the train dataloader's config\n",
    "\n",
    "print(\"Train dataloader:\", OmegaConf.to_yaml(config.model.train_ds))\n",
    "print(\"Train dataset:\\n\", OmegaConf.to_yaml(config.model.dataset))\n",
    "print(\"Trainer config:\\n\", OmegaConf.to_yaml(config.trainer))"
   ]
  },
  {
   "cell_type": "markdown",
   "metadata": {
    "id": "EII9eBAfZa4j"
   },
   "source": [
    "- Include GPU related config (for accelerator, `gpu` or `cpu`*)"
   ]
  },
  {
   "cell_type": "code",
   "execution_count": 38,
   "metadata": {
    "id": "A7EMXVjqQCKW"
   },
   "outputs": [],
   "source": [
    "# Use GPU if available\n",
    "\n",
    "config.trainer.accelerator = 'gpu' if torch.cuda.is_available() else 'cpu' \n",
    "config.trainer.devices = 1\n",
    "config.trainer.strategy = 'auto'"
   ]
  },
  {
   "cell_type": "markdown",
   "metadata": {
    "id": "KgbhgwsnZxcp"
   },
   "source": [
    "### Setting up the Trainer (Experiment Manager)\n",
    "Remember we talked about this before, an experiment manager is used in the NeMo to manage and organize training experiments. The experiment manager simplifies the process of managing experiments, including checkpoints, logs, and experiment configuration. It provides a centralized and organized approach to handle and track the progress of training experiments, making it easier to reproduce results, analyze performance, and iterate on model development.\n",
    "\n",
    "Let's setup experiment manager. We need the PT trainer and the exp_manager config. `exp_manager` is already available in our config template!\n",
    "\n",
    "- Create PT Trainer object"
   ]
  },
  {
   "cell_type": "code",
   "execution_count": null,
   "metadata": {
    "colab": {
     "base_uri": "https://localhost:8080/"
    },
    "id": "v84EAaEMW6eN",
    "outputId": "487962b6-7772-4181-a51a-adb1e61f3dc3"
   },
   "outputs": [
    {
     "name": "stderr",
     "output_type": "stream",
     "text": [
      "GPU available: True (cuda), used: True\n",
      "TPU available: False, using: 0 TPU cores\n",
      "IPU available: False, using: 0 IPUs\n"
     ]
    }
   ],
   "source": [
    "trainer = pl.Trainer(**config.trainer)"
   ]
  },
  {
   "cell_type": "code",
   "execution_count": null,
   "metadata": {
    "colab": {
     "base_uri": "https://localhost:8080/"
    },
    "id": "L1dxbnqqYHMS",
    "outputId": "adbf6d9a-57b2-4ac8-f97c-eed275e4da61"
   },
   "outputs": [],
   "source": [
    "# (Optional): Setup Experiment Manager directory for logging\n",
    "# exp_dir specifies the path to store the the checkpoints and also the logs, it's default is \"./nemo_experiments\"\n",
    "# You may set it by uncommenting the following line\n",
    "config.exp_manager.exp_dir = 'nemo_experiments'\n",
    "\n",
    "# OmegaConf.to_yaml() is used to create a proper format for printing the trainer config\n",
    "print(OmegaConf.to_yaml(config.exp_manager))\n",
    "\n",
    "exp_dir = exp_manager(trainer, config.exp_manager)\n",
    "exp_dir"
   ]
  },
  {
   "cell_type": "code",
   "execution_count": null,
   "metadata": {
    "colab": {
     "base_uri": "https://localhost:8080/"
    },
    "id": "D7kdn7fdYhgj",
    "outputId": "ad2f86af-5cfb-4ac6-e5d6-17783506360a"
   },
   "outputs": [],
   "source": [
    "print(OmegaConf.to_yaml(config.exp_manager))"
   ]
  },
  {
   "cell_type": "markdown",
   "metadata": {
    "id": "KPRwDI6dbfjK"
   },
   "source": [
    "<br><br><br>\n",
    "\n",
    "## Load Pre-trained Model\n",
    "\n",
    "Often, we get best results by using models pre-trained on large amounts of data. Here, we load a foundation model using NeMo. There are many different models available and some are more suited for certain tasks.\n",
    "\n",
    "Here, we will use the DistilBERT model, which offers good performance while being relatively fast to train!"
   ]
  },
  {
   "cell_type": "code",
   "execution_count": null,
   "metadata": {
    "colab": {
     "base_uri": "https://localhost:8080/"
    },
    "id": "RSjHwjnaiTub",
    "outputId": "66d1307e-cdc0-4579-ab74-7f6dd3db49bc"
   },
   "outputs": [],
   "source": [
    "# complete list of supported BERT-like models\n",
    "print(nemo_nlp.modules.get_pretrained_lm_models_list())"
   ]
  },
  {
   "cell_type": "markdown",
   "metadata": {
    "id": "jsDJbHtP6zO9"
   },
   "source": [
    "- Load in DistilBERT model"
   ]
  },
  {
   "cell_type": "code",
   "execution_count": null,
   "metadata": {
    "id": "64U5ry9GiUIh"
   },
   "outputs": [],
   "source": [
    "# specify the BERT-like model, you want to use\n",
    "# set the `model.language_modelpretrained_model_name' parameter in the config to the model you want to use\n",
    "config.model.language_model.pretrained_model_name = 'distilroberta-base'"
   ]
  },
  {
   "cell_type": "markdown",
   "metadata": {
    "id": "Fn8yuXP0iXh6"
   },
   "source": [
    "This is the alternative way of providing the config and trainer object to load the model which is much preferred!"
   ]
  },
  {
   "cell_type": "code",
   "execution_count": null,
   "metadata": {
    "colab": {
     "base_uri": "https://localhost:8080/",
     "height": 1000,
     "referenced_widgets": [
      "3c89d4ef60b34bf48a9203ebf90c43e5",
      "74f5931565c641859904ff77dcc5193d",
      "d4c77d738ecb4daaac4f24a926ce6237",
      "724d5cd82519464b9eacee416616b536",
      "cfcebb73d82e4335aa2827f9de58cc43",
      "f4a7005ad3244fa29ccaf0b9d02868f6",
      "c3b1351ff8cd4f1c808bccb196bf8879",
      "87985a4b4ff64ca58bfcbd86bc96630f",
      "52d1dcee3b0b4d5c8831d1ba733abf52",
      "36a2a2929d794007b300261e30a81d76",
      "6bac148d0b174062a4c9dd1f05571eb8",
      "74f982b63deb4382a8eb0ff8fa1ca0cc",
      "5ebf7ea3cefb42bc872258da854a81a5",
      "b353336b1d9d4edaa5964be257ded2e3",
      "80ac61cff3e64338840d824a9969cb2c",
      "94e0d3671b444f26ada50b219ed4bd1c",
      "3cc71f30536d4f9fa290a8ad9842f2ce",
      "be88cdf9c38641ffb6870c9780dc0cde",
      "9d9f98a3bf1d4a8a8454af101e529ed4",
      "9b46e27aa0cb484fb9c5b7b0e1aa59ae",
      "a33720a4a48944819ded548e09c7a50d",
      "3936f3f0af484ba6ae5e9bcd0bdfd6a4",
      "3f955f15bb8448c398e497a0db663580",
      "397262bd449a4208aa1cf90033c0b61a",
      "3c9d5cd483784423a7f69ffe610a4a6f",
      "6d8ce43d1c2c4330b748d4974c80b926",
      "0f507004d7064e1eb0c8ef4c147a28d4",
      "daa19bb32c184134b9ecde93f99ae016",
      "a4e3b4ec81024dc1bb3accb65f929716",
      "e82cb435f104461da5b8252fa1d25244",
      "8d4d8edd9e0d4597ac5a75740d26122a",
      "93cad2733d804445807101895a6d6d33",
      "d2ba75168d7142cea2a0af2f7733fd50",
      "29b63e5e302248fdac00dc356a7693d8",
      "135e78c2cdcc47ee8ab4174eda2f8464",
      "33d3232b9f6441c1a706a28814a8d80f",
      "579fc3f7443440ddbc79898e5e0e2244",
      "1a2ddef189944940941c980291acec5f",
      "08c33b28c3d4434a96e0795c18f1b19e",
      "69c15caf1ab44ca2ac4d516737fbc7c4",
      "b05957198be34929944bb9623c7adb4a",
      "5f642a2ca04a42c0ba54dbde5fa4177d",
      "6800a571189b46b1b23a8424df6539a3",
      "b2b6b1eda37f4f84ba7b829f8e9c046a"
     ]
    },
    "id": "MwgseGOjiVa2",
    "outputId": "807b00e0-ec6e-48d3-8239-f820ac306a6b"
   },
   "outputs": [],
   "source": [
    "model = nemo_nlp.models.TextClassificationModel(cfg=config.model, trainer=trainer)"
   ]
  },
  {
   "cell_type": "markdown",
   "metadata": {},
   "source": [
    "<br>"
   ]
  },
  {
   "cell_type": "markdown",
   "metadata": {},
   "source": [
    "# Monitor Training Progress with TensorBoard Visualization\n",
    "Optionally, you can use Tensorboard visualization to monitor training progress. Open [TensorBoard](/tensorboard/) in your browser. Then, click the link to see graphs of experiment metrics like loss and accuracy saved in the `training_info` folder."
   ]
  },
  {
   "cell_type": "markdown",
   "metadata": {
    "id": "27SOOCEo-4cB"
   },
   "source": [
    "<br>\n",
    "\n",
    "## Training Model\n",
    "\n",
    "Time to train your model! This is where the magic happens and your model starts to learn and improve its performance on the specific downstreak task, in this case to fine-tune for SST-2.\n",
    "\n",
    "During the training phase, your model will process the training data you've prepared earlier, learning from the patterns and relationships within the dataset. It will iteratively update its internal parameters to minimize the loss function, ultimately aiming to maximize its performance on the task you've defined.\n",
    "\n",
    "- Train your model (*hint: use trainer object with your model name*)"
   ]
  },
  {
   "cell_type": "code",
   "execution_count": null,
   "metadata": {
    "colab": {
     "base_uri": "https://localhost:8080/",
     "height": 1000,
     "referenced_widgets": [
      "e59834e844b74ab8b8f301399e6ce608",
      "d2d29a562cee469fa05028f6a81eb4c5",
      "eca3fcd84bce43748a216933ea2835ad",
      "8cad3072b3024fd983b2f734a85c6d7a",
      "0f65709b212249b3ab3db9d728a11256",
      "6254c08108424103b5d29cda108679e6",
      "3ef30483dbfa40869f1d7361e31269be",
      "f2d31daa29cd4e2ea1064d17dbb2884d",
      "a5dfdde9637649f38598a36afa7fd486",
      "24251d11302b48d2a6c583309a67db51",
      "1f3cf194a3ac4fd4b615824580cbb353",
      "50223275a1f94066a50c10a34bf5f196",
      "48ba9e96a9594bb9a0d4fdf26daad6a1",
      "2436e32060a648b9acfb0b99aed80abc",
      "ffd0753599d1406aa0e5eadc8256b20f",
      "c4faad3960424194bc0418765e820cd3",
      "043e22e197d6419aa6376c68d2fa82af",
      "ce5dcec8aa84430b8a8de01a37ca587b",
      "d9e39ea83f0e4458a66438bed7bd7ee0",
      "1ed7af2cc58b437297251c3ce5f32d7b",
      "3cd44f079a60495bbb1eaba11cf12e59",
      "7a6813d2cf224a4f8002ae0eb9404558"
     ]
    },
    "id": "CxtDU4Zfi3zP",
    "outputId": "d0d585da-efe2-4332-bd68-eb805f3a6635"
   },
   "outputs": [],
   "source": [
    "# Train your model\n",
    "trainer.fit(model)"
   ]
  },
  {
   "cell_type": "markdown",
   "metadata": {
    "id": "TArjCjqji-4R"
   },
   "source": [
    "<br><br>\n",
    "\n",
    "## Evaluate Model\n",
    "\n",
    "Now to assess the performance of our trained DistilBERT model on the testing dataset. We start by extracting the path of the best checkpoint from the training process. This checkpoint represents the state of the model with the best performance on the validation set during training. By using the best checkpoint, we ensure that we evaluate the model at its peak performance.\n",
    "\n",
    "\n",
    "- Define the checkpoint path to load the evaluation model at its best performing checkpoint"
   ]
  },
  {
   "cell_type": "code",
   "execution_count": null,
   "metadata": {
    "colab": {
     "base_uri": "https://localhost:8080/"
    },
    "id": "FQJ8R0GEjDU4",
    "outputId": "f92a6290-bf44-4b2b-b620-d48ff2e8c42f"
   },
   "outputs": [],
   "source": [
    "# Extract the path of the best checkpoint from the training\n",
    "checkpoint_path = trainer.checkpoint_callback.best_model_path\n",
    "\n",
    "# Load our best model from the previous training\n",
    "eval_model = nemo_nlp.models.TextClassificationModel.load_from_checkpoint(checkpoint_path=checkpoint_path)"
   ]
  },
  {
   "cell_type": "markdown",
   "metadata": {
    "id": "kwAyo0f7jGoR"
   },
   "source": [
    "Once again for the evaluation model, we will need to create a config and trainer object for evaluation.\n",
    "\n",
    "**For convenience, we have provided the code and all you need is to run the cell!**"
   ]
  },
  {
   "cell_type": "code",
   "execution_count": null,
   "metadata": {
    "colab": {
     "base_uri": "https://localhost:8080/"
    },
    "id": "flKRZWltjHnR",
    "outputId": "07e80f78-f52a-475f-f192-ccbf8882efeb"
   },
   "outputs": [],
   "source": [
    "# create a dataloader config for evaluation, the same data file provided in validation_ds is used here\n",
    "# file_path can get updated with any file\n",
    "eval_config = OmegaConf.create({'file_path': config.model.validation_ds.file_path, 'batch_size': 64, 'shuffle': False, 'num_samples': -1})\n",
    "eval_model.setup_test_data(test_data_config=eval_config)\n",
    "#eval_dataloader = eval_model._create_dataloader_from_config(cfg=eval_config, mode='test')\n",
    "\n",
    "# a new trainer is created to show how to evaluate a checkpoint from an already trained model\n",
    "# create a copy of the trainer config and update it to be used for final evaluation\n",
    "eval_trainer_cfg = config.trainer.copy()\n",
    "eval_trainer_cfg.accelerator = 'gpu' if torch.cuda.is_available() else 'cpu' # it is safer to perform evaluation on single GPU as PT is buggy with the last batch on multi-GPUs\n",
    "eval_trainer_cfg.strategy = 'auto' \n",
    "eval_trainer = pl.Trainer(**eval_trainer_cfg)"
   ]
  },
  {
   "cell_type": "markdown",
   "metadata": {
    "id": "ig9EaQEQjVOF"
   },
   "source": [
    "For text classification, we can measure the accuracy and F1-score of the model's predictions compared to the ground truth labels. Accuracy represents the proportion of correctly classified samples, while F1-score takes into account both precision and recall of the model's predictions.\n",
    "\n",
    "- By evaluating the model's performance on the test dataset, we gain valuable insights into how well the trained DistilBERT model generalizes to unseen data.\n",
    "\n",
    "- This evaluation step helps us validate the effectiveness of our model and provides a quantitative measure of its performance on the sentiment classification task!\n",
    "\n",
    "- Evaluate the best model from the checkpoint\n",
    "> Take note that we use `eval_trainer.test` for evaluation as compared to `trainer.fit`\n",
    "- Interpret the results\n",
    "> Is your model performing well?"
   ]
  },
  {
   "cell_type": "code",
   "execution_count": null,
   "metadata": {
    "colab": {
     "base_uri": "https://localhost:8080/",
     "height": 380,
     "referenced_widgets": [
      "f91d1b9cdbb34ffb94b10b2078af72a9",
      "e822248f17644caca030148e9c8be4ff",
      "0049e20fef664d688d46b2a2782e82e9",
      "13eed83cd1364b2990dc6d8644411df4",
      "8aea149d4ecb465c837fc6a59aacb431",
      "ed183743d31f45378e49c90703d3ac19",
      "e1ad1c856bb4479f80a07277acef0995",
      "84ace9414c2244268462c59fe8471033",
      "27e2c747d09e44e993b8c0599f62d977",
      "28ce11346d9e4aee9e29d1e0731d7f03",
      "189b44f3120a4781805d27e409582d37"
     ]
    },
    "id": "ccaWyAV9jJ2u",
    "outputId": "3737219b-1add-4e4f-f962-75dc3ac917ce"
   },
   "outputs": [],
   "source": [
    "eval_trainer.test(model=eval_model, verbose=False)"
   ]
  },
  {
   "cell_type": "markdown",
   "metadata": {
    "id": "PGT3IdYOjL1l"
   },
   "source": [
    "<br><br>\n",
    "\n",
    "## Making Inference\n",
    "For the final and most exciting part - using our trained model for inference! Similarly, we do the same for our inference model, termed as `infer_model` by loading our best model from the previous training checkpoint."
   ]
  },
  {
   "cell_type": "code",
   "execution_count": null,
   "metadata": {
    "id": "1-qyF-CCjPZv"
   },
   "outputs": [],
   "source": [
    "# extract the path of the best checkpoint from the training, you may update it to any other checkpoint file\n",
    "checkpoint_path = trainer.checkpoint_callback.best_model_path\n",
    "# Create an evaluation model and load the checkpoint\n",
    "infer_model = nemo_nlp.models.TextClassificationModel.load_from_checkpoint(checkpoint_path=checkpoint_path)"
   ]
  },
  {
   "cell_type": "markdown",
   "metadata": {
    "id": "EGGN0pUMjTLw"
   },
   "source": [
    "Move to GPU if available to speed up inference"
   ]
  },
  {
   "cell_type": "code",
   "execution_count": null,
   "metadata": {
    "id": "FkgOffLFjU0W"
   },
   "outputs": [],
   "source": [
    "# move the model to the desired device for inference\n",
    "# we move the model to \"cuda\" if available otherwise \"cpu\" would be used\n",
    "if torch.cuda.is_available():\n",
    "    infer_model.to(\"cuda\")\n",
    "else:\n",
    "    infer_model.to(\"cpu\")"
   ]
  },
  {
   "cell_type": "markdown",
   "metadata": {
    "id": "Zo09b_nywlJ_"
   },
   "source": [
    "The time has come to unleash the potential of our trained model for making predictions!\n",
    "\n",
    "- Input `queries`, `batch_size`, and `max_seq_length` details to your `infer_model`.\n",
    "- Try a different query"
   ]
  },
  {
   "cell_type": "code",
   "execution_count": null,
   "metadata": {
    "colab": {
     "base_uri": "https://localhost:8080/"
    },
    "id": "ZXebaRdqjY_W",
    "outputId": "15bfeb21-d224-4c82-d93f-d75b7b86647c"
   },
   "outputs": [],
   "source": [
    "# define the list of queries for inference\n",
    "queries = ['by the end of no such thing the audience , like beatrice , has a watchful affection for the monster .',\n",
    "           'director rob marshall went out gunning to make a great one .',\n",
    "           'uneasy mishmash of styles and genres .']\n",
    "\n",
    "# max_seq_length=512 is the maximum length BERT supports.\n",
    "results = infer_model.classifytext(queries=queries, batch_size=3, max_seq_length=512)\n",
    "\n",
    "print('The prediction results of some sample queries with the trained model:')\n",
    "for query, result in zip(queries, results):\n",
    "    print(f'Query : {query}')\n",
    "    print(f'Predicted label: {result}')"
   ]
  },
  {
   "cell_type": "markdown",
   "metadata": {},
   "source": [
    "<br><br><br>\n",
    "\n",
    "## Optional Exercises\n",
    "We are not done yet! If you are interested or keen to explore further, we have an optional section prepared for you."
   ]
  },
  {
   "cell_type": "markdown",
   "metadata": {},
   "source": [
    "### Optional: Change Hyperparameters or Language Model\n",
    "So far, you've used the basic DistilBERT language model, but that is just one of many you could try. In this optional section, try to experiment with different settings or models to observe the effects on model performance!\n",
    "\n",
    "**Exercise:**\n",
    "- Experiment with different hyperparameters!\n",
    "- Try a different model to compare performance!"
   ]
  },
  {
   "cell_type": "code",
   "execution_count": null,
   "metadata": {},
   "outputs": [],
   "source": [
    "# complete list of supported NeMo NLP models\n",
    "from nemo.collections import nlp as nemo_nlp\n",
    "nemo_nlp.modules.get_pretrained_lm_models_list()"
   ]
  },
  {
   "cell_type": "markdown",
   "metadata": {},
   "source": [
    "You may need to restart the notebook kernal to clear memory.  If you use a large model, other ways to save GPU memory space are to reduce the `batch_size` to 32, 16, or even 8 and reduce the `max_seq_length` to 64. There is no right answer to this exercise.  Rather, this is an opportunity for you to experiment.  Some of the models can take several minutes to run, so feel free to play around!"
   ]
  },
  {
   "cell_type": "markdown",
   "metadata": {
    "id": "ZygaiSZibnQE"
   },
   "source": [
    "<br><br><br><br>**Congratulations on completing this section of NeMo workshop!**<br>\n",
    "*In this section, we demonstrated the NLP capabilities of NeMo, in natural language understanding for sentiment analysis as a downstream task for our fine-tuning on the foundation model. NeMo provides pre-trained models and tools to fine-tune them for specific tasks.*\n",
    "\n",
    "> Remember that NeMo offers a vast array of capabilities beyond what we've covered here. This tutorial merely scratches the surface of what NeMo can do... We hope this introductory tutorial has provided you with a basic understanding of NeMo. There are many resources to NeMo, including documentation, example code, and a supportive community, to help you on your NeMo journey!"
   ]
  }
 ],
 "metadata": {
  "accelerator": "GPU",
  "colab": {
   "gpuType": "T4",
   "provenance": [],
   "toc_visible": true
  },
  "kernelspec": {
   "display_name": "Python 3 (ipykernel)",
   "language": "python",
   "name": "python3"
  },
  "language_info": {
   "codemirror_mode": {
    "name": "ipython",
    "version": 3
   },
   "file_extension": ".py",
   "mimetype": "text/x-python",
   "name": "python",
   "nbconvert_exporter": "python",
   "pygments_lexer": "ipython3",
   "version": "3.10.12"
  },
  "widgets": {
   "application/vnd.jupyter.widget-state+json": {
    "0049e20fef664d688d46b2a2782e82e9": {
     "model_module": "@jupyter-widgets/controls",
     "model_module_version": "1.5.0",
     "model_name": "FloatProgressModel",
     "state": {
      "_dom_classes": [],
      "_model_module": "@jupyter-widgets/controls",
      "_model_module_version": "1.5.0",
      "_model_name": "FloatProgressModel",
      "_view_count": null,
      "_view_module": "@jupyter-widgets/controls",
      "_view_module_version": "1.5.0",
      "_view_name": "ProgressView",
      "bar_style": "success",
      "description": "",
      "description_tooltip": null,
      "layout": "IPY_MODEL_84ace9414c2244268462c59fe8471033",
      "max": 14,
      "min": 0,
      "orientation": "horizontal",
      "style": "IPY_MODEL_27e2c747d09e44e993b8c0599f62d977",
      "value": 14
     }
    },
    "043e22e197d6419aa6376c68d2fa82af": {
     "model_module": "@jupyter-widgets/base",
     "model_module_version": "1.2.0",
     "model_name": "LayoutModel",
     "state": {
      "_model_module": "@jupyter-widgets/base",
      "_model_module_version": "1.2.0",
      "_model_name": "LayoutModel",
      "_view_count": null,
      "_view_module": "@jupyter-widgets/base",
      "_view_module_version": "1.2.0",
      "_view_name": "LayoutView",
      "align_content": null,
      "align_items": null,
      "align_self": null,
      "border": null,
      "bottom": null,
      "display": null,
      "flex": null,
      "flex_flow": null,
      "grid_area": null,
      "grid_auto_columns": null,
      "grid_auto_flow": null,
      "grid_auto_rows": null,
      "grid_column": null,
      "grid_gap": null,
      "grid_row": null,
      "grid_template_areas": null,
      "grid_template_columns": null,
      "grid_template_rows": null,
      "height": null,
      "justify_content": null,
      "justify_items": null,
      "left": null,
      "margin": null,
      "max_height": null,
      "max_width": null,
      "min_height": null,
      "min_width": null,
      "object_fit": null,
      "object_position": null,
      "order": null,
      "overflow": null,
      "overflow_x": null,
      "overflow_y": null,
      "padding": null,
      "right": null,
      "top": null,
      "visibility": null,
      "width": null
     }
    },
    "08c33b28c3d4434a96e0795c18f1b19e": {
     "model_module": "@jupyter-widgets/base",
     "model_module_version": "1.2.0",
     "model_name": "LayoutModel",
     "state": {
      "_model_module": "@jupyter-widgets/base",
      "_model_module_version": "1.2.0",
      "_model_name": "LayoutModel",
      "_view_count": null,
      "_view_module": "@jupyter-widgets/base",
      "_view_module_version": "1.2.0",
      "_view_name": "LayoutView",
      "align_content": null,
      "align_items": null,
      "align_self": null,
      "border": null,
      "bottom": null,
      "display": null,
      "flex": null,
      "flex_flow": null,
      "grid_area": null,
      "grid_auto_columns": null,
      "grid_auto_flow": null,
      "grid_auto_rows": null,
      "grid_column": null,
      "grid_gap": null,
      "grid_row": null,
      "grid_template_areas": null,
      "grid_template_columns": null,
      "grid_template_rows": null,
      "height": null,
      "justify_content": null,
      "justify_items": null,
      "left": null,
      "margin": null,
      "max_height": null,
      "max_width": null,
      "min_height": null,
      "min_width": null,
      "object_fit": null,
      "object_position": null,
      "order": null,
      "overflow": null,
      "overflow_x": null,
      "overflow_y": null,
      "padding": null,
      "right": null,
      "top": null,
      "visibility": null,
      "width": null
     }
    },
    "0f507004d7064e1eb0c8ef4c147a28d4": {
     "model_module": "@jupyter-widgets/base",
     "model_module_version": "1.2.0",
     "model_name": "LayoutModel",
     "state": {
      "_model_module": "@jupyter-widgets/base",
      "_model_module_version": "1.2.0",
      "_model_name": "LayoutModel",
      "_view_count": null,
      "_view_module": "@jupyter-widgets/base",
      "_view_module_version": "1.2.0",
      "_view_name": "LayoutView",
      "align_content": null,
      "align_items": null,
      "align_self": null,
      "border": null,
      "bottom": null,
      "display": null,
      "flex": null,
      "flex_flow": null,
      "grid_area": null,
      "grid_auto_columns": null,
      "grid_auto_flow": null,
      "grid_auto_rows": null,
      "grid_column": null,
      "grid_gap": null,
      "grid_row": null,
      "grid_template_areas": null,
      "grid_template_columns": null,
      "grid_template_rows": null,
      "height": null,
      "justify_content": null,
      "justify_items": null,
      "left": null,
      "margin": null,
      "max_height": null,
      "max_width": null,
      "min_height": null,
      "min_width": null,
      "object_fit": null,
      "object_position": null,
      "order": null,
      "overflow": null,
      "overflow_x": null,
      "overflow_y": null,
      "padding": null,
      "right": null,
      "top": null,
      "visibility": null,
      "width": null
     }
    },
    "0f65709b212249b3ab3db9d728a11256": {
     "model_module": "@jupyter-widgets/base",
     "model_module_version": "1.2.0",
     "model_name": "LayoutModel",
     "state": {
      "_model_module": "@jupyter-widgets/base",
      "_model_module_version": "1.2.0",
      "_model_name": "LayoutModel",
      "_view_count": null,
      "_view_module": "@jupyter-widgets/base",
      "_view_module_version": "1.2.0",
      "_view_name": "LayoutView",
      "align_content": null,
      "align_items": null,
      "align_self": null,
      "border": null,
      "bottom": null,
      "display": "inline-flex",
      "flex": null,
      "flex_flow": "row wrap",
      "grid_area": null,
      "grid_auto_columns": null,
      "grid_auto_flow": null,
      "grid_auto_rows": null,
      "grid_column": null,
      "grid_gap": null,
      "grid_row": null,
      "grid_template_areas": null,
      "grid_template_columns": null,
      "grid_template_rows": null,
      "height": null,
      "justify_content": null,
      "justify_items": null,
      "left": null,
      "margin": null,
      "max_height": null,
      "max_width": null,
      "min_height": null,
      "min_width": null,
      "object_fit": null,
      "object_position": null,
      "order": null,
      "overflow": null,
      "overflow_x": null,
      "overflow_y": null,
      "padding": null,
      "right": null,
      "top": null,
      "visibility": null,
      "width": "100%"
     }
    },
    "135e78c2cdcc47ee8ab4174eda2f8464": {
     "model_module": "@jupyter-widgets/controls",
     "model_module_version": "1.5.0",
     "model_name": "HTMLModel",
     "state": {
      "_dom_classes": [],
      "_model_module": "@jupyter-widgets/controls",
      "_model_module_version": "1.5.0",
      "_model_name": "HTMLModel",
      "_view_count": null,
      "_view_module": "@jupyter-widgets/controls",
      "_view_module_version": "1.5.0",
      "_view_name": "HTMLView",
      "description": "",
      "description_tooltip": null,
      "layout": "IPY_MODEL_08c33b28c3d4434a96e0795c18f1b19e",
      "placeholder": "​",
      "style": "IPY_MODEL_69c15caf1ab44ca2ac4d516737fbc7c4",
      "value": "Downloading model.safetensors: 100%"
     }
    },
    "13eed83cd1364b2990dc6d8644411df4": {
     "model_module": "@jupyter-widgets/controls",
     "model_module_version": "1.5.0",
     "model_name": "HTMLModel",
     "state": {
      "_dom_classes": [],
      "_model_module": "@jupyter-widgets/controls",
      "_model_module_version": "1.5.0",
      "_model_name": "HTMLModel",
      "_view_count": null,
      "_view_module": "@jupyter-widgets/controls",
      "_view_module_version": "1.5.0",
      "_view_name": "HTMLView",
      "description": "",
      "description_tooltip": null,
      "layout": "IPY_MODEL_28ce11346d9e4aee9e29d1e0731d7f03",
      "placeholder": "​",
      "style": "IPY_MODEL_189b44f3120a4781805d27e409582d37",
      "value": " 14/14 [00:01&lt;00:00,  8.98it/s]"
     }
    },
    "189b44f3120a4781805d27e409582d37": {
     "model_module": "@jupyter-widgets/controls",
     "model_module_version": "1.5.0",
     "model_name": "DescriptionStyleModel",
     "state": {
      "_model_module": "@jupyter-widgets/controls",
      "_model_module_version": "1.5.0",
      "_model_name": "DescriptionStyleModel",
      "_view_count": null,
      "_view_module": "@jupyter-widgets/base",
      "_view_module_version": "1.2.0",
      "_view_name": "StyleView",
      "description_width": ""
     }
    },
    "1a2ddef189944940941c980291acec5f": {
     "model_module": "@jupyter-widgets/base",
     "model_module_version": "1.2.0",
     "model_name": "LayoutModel",
     "state": {
      "_model_module": "@jupyter-widgets/base",
      "_model_module_version": "1.2.0",
      "_model_name": "LayoutModel",
      "_view_count": null,
      "_view_module": "@jupyter-widgets/base",
      "_view_module_version": "1.2.0",
      "_view_name": "LayoutView",
      "align_content": null,
      "align_items": null,
      "align_self": null,
      "border": null,
      "bottom": null,
      "display": null,
      "flex": null,
      "flex_flow": null,
      "grid_area": null,
      "grid_auto_columns": null,
      "grid_auto_flow": null,
      "grid_auto_rows": null,
      "grid_column": null,
      "grid_gap": null,
      "grid_row": null,
      "grid_template_areas": null,
      "grid_template_columns": null,
      "grid_template_rows": null,
      "height": null,
      "justify_content": null,
      "justify_items": null,
      "left": null,
      "margin": null,
      "max_height": null,
      "max_width": null,
      "min_height": null,
      "min_width": null,
      "object_fit": null,
      "object_position": null,
      "order": null,
      "overflow": null,
      "overflow_x": null,
      "overflow_y": null,
      "padding": null,
      "right": null,
      "top": null,
      "visibility": null,
      "width": null
     }
    },
    "1ed7af2cc58b437297251c3ce5f32d7b": {
     "model_module": "@jupyter-widgets/controls",
     "model_module_version": "1.5.0",
     "model_name": "ProgressStyleModel",
     "state": {
      "_model_module": "@jupyter-widgets/controls",
      "_model_module_version": "1.5.0",
      "_model_name": "ProgressStyleModel",
      "_view_count": null,
      "_view_module": "@jupyter-widgets/base",
      "_view_module_version": "1.2.0",
      "_view_name": "StyleView",
      "bar_color": null,
      "description_width": ""
     }
    },
    "1f3cf194a3ac4fd4b615824580cbb353": {
     "model_module": "@jupyter-widgets/controls",
     "model_module_version": "1.5.0",
     "model_name": "DescriptionStyleModel",
     "state": {
      "_model_module": "@jupyter-widgets/controls",
      "_model_module_version": "1.5.0",
      "_model_name": "DescriptionStyleModel",
      "_view_count": null,
      "_view_module": "@jupyter-widgets/base",
      "_view_module_version": "1.2.0",
      "_view_name": "StyleView",
      "description_width": ""
     }
    },
    "24251d11302b48d2a6c583309a67db51": {
     "model_module": "@jupyter-widgets/base",
     "model_module_version": "1.2.0",
     "model_name": "LayoutModel",
     "state": {
      "_model_module": "@jupyter-widgets/base",
      "_model_module_version": "1.2.0",
      "_model_name": "LayoutModel",
      "_view_count": null,
      "_view_module": "@jupyter-widgets/base",
      "_view_module_version": "1.2.0",
      "_view_name": "LayoutView",
      "align_content": null,
      "align_items": null,
      "align_self": null,
      "border": null,
      "bottom": null,
      "display": null,
      "flex": null,
      "flex_flow": null,
      "grid_area": null,
      "grid_auto_columns": null,
      "grid_auto_flow": null,
      "grid_auto_rows": null,
      "grid_column": null,
      "grid_gap": null,
      "grid_row": null,
      "grid_template_areas": null,
      "grid_template_columns": null,
      "grid_template_rows": null,
      "height": null,
      "justify_content": null,
      "justify_items": null,
      "left": null,
      "margin": null,
      "max_height": null,
      "max_width": null,
      "min_height": null,
      "min_width": null,
      "object_fit": null,
      "object_position": null,
      "order": null,
      "overflow": null,
      "overflow_x": null,
      "overflow_y": null,
      "padding": null,
      "right": null,
      "top": null,
      "visibility": null,
      "width": null
     }
    },
    "2436e32060a648b9acfb0b99aed80abc": {
     "model_module": "@jupyter-widgets/controls",
     "model_module_version": "1.5.0",
     "model_name": "FloatProgressModel",
     "state": {
      "_dom_classes": [],
      "_model_module": "@jupyter-widgets/controls",
      "_model_module_version": "1.5.0",
      "_model_name": "FloatProgressModel",
      "_view_count": null,
      "_view_module": "@jupyter-widgets/controls",
      "_view_module_version": "1.5.0",
      "_view_name": "ProgressView",
      "bar_style": "",
      "description": "",
      "description_tooltip": null,
      "layout": "IPY_MODEL_d9e39ea83f0e4458a66438bed7bd7ee0",
      "max": 7,
      "min": 0,
      "orientation": "horizontal",
      "style": "IPY_MODEL_1ed7af2cc58b437297251c3ce5f32d7b",
      "value": 7
     }
    },
    "27e2c747d09e44e993b8c0599f62d977": {
     "model_module": "@jupyter-widgets/controls",
     "model_module_version": "1.5.0",
     "model_name": "ProgressStyleModel",
     "state": {
      "_model_module": "@jupyter-widgets/controls",
      "_model_module_version": "1.5.0",
      "_model_name": "ProgressStyleModel",
      "_view_count": null,
      "_view_module": "@jupyter-widgets/base",
      "_view_module_version": "1.2.0",
      "_view_name": "StyleView",
      "bar_color": null,
      "description_width": ""
     }
    },
    "28ce11346d9e4aee9e29d1e0731d7f03": {
     "model_module": "@jupyter-widgets/base",
     "model_module_version": "1.2.0",
     "model_name": "LayoutModel",
     "state": {
      "_model_module": "@jupyter-widgets/base",
      "_model_module_version": "1.2.0",
      "_model_name": "LayoutModel",
      "_view_count": null,
      "_view_module": "@jupyter-widgets/base",
      "_view_module_version": "1.2.0",
      "_view_name": "LayoutView",
      "align_content": null,
      "align_items": null,
      "align_self": null,
      "border": null,
      "bottom": null,
      "display": null,
      "flex": null,
      "flex_flow": null,
      "grid_area": null,
      "grid_auto_columns": null,
      "grid_auto_flow": null,
      "grid_auto_rows": null,
      "grid_column": null,
      "grid_gap": null,
      "grid_row": null,
      "grid_template_areas": null,
      "grid_template_columns": null,
      "grid_template_rows": null,
      "height": null,
      "justify_content": null,
      "justify_items": null,
      "left": null,
      "margin": null,
      "max_height": null,
      "max_width": null,
      "min_height": null,
      "min_width": null,
      "object_fit": null,
      "object_position": null,
      "order": null,
      "overflow": null,
      "overflow_x": null,
      "overflow_y": null,
      "padding": null,
      "right": null,
      "top": null,
      "visibility": null,
      "width": null
     }
    },
    "29b63e5e302248fdac00dc356a7693d8": {
     "model_module": "@jupyter-widgets/controls",
     "model_module_version": "1.5.0",
     "model_name": "HBoxModel",
     "state": {
      "_dom_classes": [],
      "_model_module": "@jupyter-widgets/controls",
      "_model_module_version": "1.5.0",
      "_model_name": "HBoxModel",
      "_view_count": null,
      "_view_module": "@jupyter-widgets/controls",
      "_view_module_version": "1.5.0",
      "_view_name": "HBoxView",
      "box_style": "",
      "children": [
       "IPY_MODEL_135e78c2cdcc47ee8ab4174eda2f8464",
       "IPY_MODEL_33d3232b9f6441c1a706a28814a8d80f",
       "IPY_MODEL_579fc3f7443440ddbc79898e5e0e2244"
      ],
      "layout": "IPY_MODEL_1a2ddef189944940941c980291acec5f"
     }
    },
    "33d3232b9f6441c1a706a28814a8d80f": {
     "model_module": "@jupyter-widgets/controls",
     "model_module_version": "1.5.0",
     "model_name": "FloatProgressModel",
     "state": {
      "_dom_classes": [],
      "_model_module": "@jupyter-widgets/controls",
      "_model_module_version": "1.5.0",
      "_model_name": "FloatProgressModel",
      "_view_count": null,
      "_view_module": "@jupyter-widgets/controls",
      "_view_module_version": "1.5.0",
      "_view_name": "ProgressView",
      "bar_style": "success",
      "description": "",
      "description_tooltip": null,
      "layout": "IPY_MODEL_b05957198be34929944bb9623c7adb4a",
      "max": 331055963,
      "min": 0,
      "orientation": "horizontal",
      "style": "IPY_MODEL_5f642a2ca04a42c0ba54dbde5fa4177d",
      "value": 331055963
     }
    },
    "36a2a2929d794007b300261e30a81d76": {
     "model_module": "@jupyter-widgets/base",
     "model_module_version": "1.2.0",
     "model_name": "LayoutModel",
     "state": {
      "_model_module": "@jupyter-widgets/base",
      "_model_module_version": "1.2.0",
      "_model_name": "LayoutModel",
      "_view_count": null,
      "_view_module": "@jupyter-widgets/base",
      "_view_module_version": "1.2.0",
      "_view_name": "LayoutView",
      "align_content": null,
      "align_items": null,
      "align_self": null,
      "border": null,
      "bottom": null,
      "display": null,
      "flex": null,
      "flex_flow": null,
      "grid_area": null,
      "grid_auto_columns": null,
      "grid_auto_flow": null,
      "grid_auto_rows": null,
      "grid_column": null,
      "grid_gap": null,
      "grid_row": null,
      "grid_template_areas": null,
      "grid_template_columns": null,
      "grid_template_rows": null,
      "height": null,
      "justify_content": null,
      "justify_items": null,
      "left": null,
      "margin": null,
      "max_height": null,
      "max_width": null,
      "min_height": null,
      "min_width": null,
      "object_fit": null,
      "object_position": null,
      "order": null,
      "overflow": null,
      "overflow_x": null,
      "overflow_y": null,
      "padding": null,
      "right": null,
      "top": null,
      "visibility": null,
      "width": null
     }
    },
    "3936f3f0af484ba6ae5e9bcd0bdfd6a4": {
     "model_module": "@jupyter-widgets/controls",
     "model_module_version": "1.5.0",
     "model_name": "DescriptionStyleModel",
     "state": {
      "_model_module": "@jupyter-widgets/controls",
      "_model_module_version": "1.5.0",
      "_model_name": "DescriptionStyleModel",
      "_view_count": null,
      "_view_module": "@jupyter-widgets/base",
      "_view_module_version": "1.2.0",
      "_view_name": "StyleView",
      "description_width": ""
     }
    },
    "397262bd449a4208aa1cf90033c0b61a": {
     "model_module": "@jupyter-widgets/controls",
     "model_module_version": "1.5.0",
     "model_name": "HTMLModel",
     "state": {
      "_dom_classes": [],
      "_model_module": "@jupyter-widgets/controls",
      "_model_module_version": "1.5.0",
      "_model_name": "HTMLModel",
      "_view_count": null,
      "_view_module": "@jupyter-widgets/controls",
      "_view_module_version": "1.5.0",
      "_view_name": "HTMLView",
      "description": "",
      "description_tooltip": null,
      "layout": "IPY_MODEL_daa19bb32c184134b9ecde93f99ae016",
      "placeholder": "​",
      "style": "IPY_MODEL_a4e3b4ec81024dc1bb3accb65f929716",
      "value": "Downloading (…)olve/main/merges.txt: 100%"
     }
    },
    "3c89d4ef60b34bf48a9203ebf90c43e5": {
     "model_module": "@jupyter-widgets/controls",
     "model_module_version": "1.5.0",
     "model_name": "HBoxModel",
     "state": {
      "_dom_classes": [],
      "_model_module": "@jupyter-widgets/controls",
      "_model_module_version": "1.5.0",
      "_model_name": "HBoxModel",
      "_view_count": null,
      "_view_module": "@jupyter-widgets/controls",
      "_view_module_version": "1.5.0",
      "_view_name": "HBoxView",
      "box_style": "",
      "children": [
       "IPY_MODEL_74f5931565c641859904ff77dcc5193d",
       "IPY_MODEL_d4c77d738ecb4daaac4f24a926ce6237",
       "IPY_MODEL_724d5cd82519464b9eacee416616b536"
      ],
      "layout": "IPY_MODEL_cfcebb73d82e4335aa2827f9de58cc43"
     }
    },
    "3c9d5cd483784423a7f69ffe610a4a6f": {
     "model_module": "@jupyter-widgets/controls",
     "model_module_version": "1.5.0",
     "model_name": "FloatProgressModel",
     "state": {
      "_dom_classes": [],
      "_model_module": "@jupyter-widgets/controls",
      "_model_module_version": "1.5.0",
      "_model_name": "FloatProgressModel",
      "_view_count": null,
      "_view_module": "@jupyter-widgets/controls",
      "_view_module_version": "1.5.0",
      "_view_name": "ProgressView",
      "bar_style": "success",
      "description": "",
      "description_tooltip": null,
      "layout": "IPY_MODEL_e82cb435f104461da5b8252fa1d25244",
      "max": 456318,
      "min": 0,
      "orientation": "horizontal",
      "style": "IPY_MODEL_8d4d8edd9e0d4597ac5a75740d26122a",
      "value": 456318
     }
    },
    "3cc71f30536d4f9fa290a8ad9842f2ce": {
     "model_module": "@jupyter-widgets/base",
     "model_module_version": "1.2.0",
     "model_name": "LayoutModel",
     "state": {
      "_model_module": "@jupyter-widgets/base",
      "_model_module_version": "1.2.0",
      "_model_name": "LayoutModel",
      "_view_count": null,
      "_view_module": "@jupyter-widgets/base",
      "_view_module_version": "1.2.0",
      "_view_name": "LayoutView",
      "align_content": null,
      "align_items": null,
      "align_self": null,
      "border": null,
      "bottom": null,
      "display": null,
      "flex": null,
      "flex_flow": null,
      "grid_area": null,
      "grid_auto_columns": null,
      "grid_auto_flow": null,
      "grid_auto_rows": null,
      "grid_column": null,
      "grid_gap": null,
      "grid_row": null,
      "grid_template_areas": null,
      "grid_template_columns": null,
      "grid_template_rows": null,
      "height": null,
      "justify_content": null,
      "justify_items": null,
      "left": null,
      "margin": null,
      "max_height": null,
      "max_width": null,
      "min_height": null,
      "min_width": null,
      "object_fit": null,
      "object_position": null,
      "order": null,
      "overflow": null,
      "overflow_x": null,
      "overflow_y": null,
      "padding": null,
      "right": null,
      "top": null,
      "visibility": null,
      "width": null
     }
    },
    "3cd44f079a60495bbb1eaba11cf12e59": {
     "model_module": "@jupyter-widgets/base",
     "model_module_version": "1.2.0",
     "model_name": "LayoutModel",
     "state": {
      "_model_module": "@jupyter-widgets/base",
      "_model_module_version": "1.2.0",
      "_model_name": "LayoutModel",
      "_view_count": null,
      "_view_module": "@jupyter-widgets/base",
      "_view_module_version": "1.2.0",
      "_view_name": "LayoutView",
      "align_content": null,
      "align_items": null,
      "align_self": null,
      "border": null,
      "bottom": null,
      "display": null,
      "flex": null,
      "flex_flow": null,
      "grid_area": null,
      "grid_auto_columns": null,
      "grid_auto_flow": null,
      "grid_auto_rows": null,
      "grid_column": null,
      "grid_gap": null,
      "grid_row": null,
      "grid_template_areas": null,
      "grid_template_columns": null,
      "grid_template_rows": null,
      "height": null,
      "justify_content": null,
      "justify_items": null,
      "left": null,
      "margin": null,
      "max_height": null,
      "max_width": null,
      "min_height": null,
      "min_width": null,
      "object_fit": null,
      "object_position": null,
      "order": null,
      "overflow": null,
      "overflow_x": null,
      "overflow_y": null,
      "padding": null,
      "right": null,
      "top": null,
      "visibility": null,
      "width": null
     }
    },
    "3ef30483dbfa40869f1d7361e31269be": {
     "model_module": "@jupyter-widgets/controls",
     "model_module_version": "1.5.0",
     "model_name": "DescriptionStyleModel",
     "state": {
      "_model_module": "@jupyter-widgets/controls",
      "_model_module_version": "1.5.0",
      "_model_name": "DescriptionStyleModel",
      "_view_count": null,
      "_view_module": "@jupyter-widgets/base",
      "_view_module_version": "1.2.0",
      "_view_name": "StyleView",
      "description_width": ""
     }
    },
    "3f955f15bb8448c398e497a0db663580": {
     "model_module": "@jupyter-widgets/controls",
     "model_module_version": "1.5.0",
     "model_name": "HBoxModel",
     "state": {
      "_dom_classes": [],
      "_model_module": "@jupyter-widgets/controls",
      "_model_module_version": "1.5.0",
      "_model_name": "HBoxModel",
      "_view_count": null,
      "_view_module": "@jupyter-widgets/controls",
      "_view_module_version": "1.5.0",
      "_view_name": "HBoxView",
      "box_style": "",
      "children": [
       "IPY_MODEL_397262bd449a4208aa1cf90033c0b61a",
       "IPY_MODEL_3c9d5cd483784423a7f69ffe610a4a6f",
       "IPY_MODEL_6d8ce43d1c2c4330b748d4974c80b926"
      ],
      "layout": "IPY_MODEL_0f507004d7064e1eb0c8ef4c147a28d4"
     }
    },
    "48ba9e96a9594bb9a0d4fdf26daad6a1": {
     "model_module": "@jupyter-widgets/controls",
     "model_module_version": "1.5.0",
     "model_name": "HTMLModel",
     "state": {
      "_dom_classes": [],
      "_model_module": "@jupyter-widgets/controls",
      "_model_module_version": "1.5.0",
      "_model_name": "HTMLModel",
      "_view_count": null,
      "_view_module": "@jupyter-widgets/controls",
      "_view_module_version": "1.5.0",
      "_view_name": "HTMLView",
      "description": "",
      "description_tooltip": null,
      "layout": "IPY_MODEL_043e22e197d6419aa6376c68d2fa82af",
      "placeholder": "​",
      "style": "IPY_MODEL_ce5dcec8aa84430b8a8de01a37ca587b",
      "value": "Validation DataLoader 0: 100%"
     }
    },
    "50223275a1f94066a50c10a34bf5f196": {
     "model_module": "@jupyter-widgets/controls",
     "model_module_version": "1.5.0",
     "model_name": "HBoxModel",
     "state": {
      "_dom_classes": [],
      "_model_module": "@jupyter-widgets/controls",
      "_model_module_version": "1.5.0",
      "_model_name": "HBoxModel",
      "_view_count": null,
      "_view_module": "@jupyter-widgets/controls",
      "_view_module_version": "1.5.0",
      "_view_name": "HBoxView",
      "box_style": "",
      "children": [
       "IPY_MODEL_48ba9e96a9594bb9a0d4fdf26daad6a1",
       "IPY_MODEL_2436e32060a648b9acfb0b99aed80abc",
       "IPY_MODEL_ffd0753599d1406aa0e5eadc8256b20f"
      ],
      "layout": "IPY_MODEL_c4faad3960424194bc0418765e820cd3"
     }
    },
    "52d1dcee3b0b4d5c8831d1ba733abf52": {
     "model_module": "@jupyter-widgets/controls",
     "model_module_version": "1.5.0",
     "model_name": "ProgressStyleModel",
     "state": {
      "_model_module": "@jupyter-widgets/controls",
      "_model_module_version": "1.5.0",
      "_model_name": "ProgressStyleModel",
      "_view_count": null,
      "_view_module": "@jupyter-widgets/base",
      "_view_module_version": "1.2.0",
      "_view_name": "StyleView",
      "bar_color": null,
      "description_width": ""
     }
    },
    "579fc3f7443440ddbc79898e5e0e2244": {
     "model_module": "@jupyter-widgets/controls",
     "model_module_version": "1.5.0",
     "model_name": "HTMLModel",
     "state": {
      "_dom_classes": [],
      "_model_module": "@jupyter-widgets/controls",
      "_model_module_version": "1.5.0",
      "_model_name": "HTMLModel",
      "_view_count": null,
      "_view_module": "@jupyter-widgets/controls",
      "_view_module_version": "1.5.0",
      "_view_name": "HTMLView",
      "description": "",
      "description_tooltip": null,
      "layout": "IPY_MODEL_6800a571189b46b1b23a8424df6539a3",
      "placeholder": "​",
      "style": "IPY_MODEL_b2b6b1eda37f4f84ba7b829f8e9c046a",
      "value": " 331M/331M [00:01&lt;00:00, 266MB/s]"
     }
    },
    "5ebf7ea3cefb42bc872258da854a81a5": {
     "model_module": "@jupyter-widgets/controls",
     "model_module_version": "1.5.0",
     "model_name": "HTMLModel",
     "state": {
      "_dom_classes": [],
      "_model_module": "@jupyter-widgets/controls",
      "_model_module_version": "1.5.0",
      "_model_name": "HTMLModel",
      "_view_count": null,
      "_view_module": "@jupyter-widgets/controls",
      "_view_module_version": "1.5.0",
      "_view_name": "HTMLView",
      "description": "",
      "description_tooltip": null,
      "layout": "IPY_MODEL_3cc71f30536d4f9fa290a8ad9842f2ce",
      "placeholder": "​",
      "style": "IPY_MODEL_be88cdf9c38641ffb6870c9780dc0cde",
      "value": "Downloading (…)olve/main/vocab.json: 100%"
     }
    },
    "5f642a2ca04a42c0ba54dbde5fa4177d": {
     "model_module": "@jupyter-widgets/controls",
     "model_module_version": "1.5.0",
     "model_name": "ProgressStyleModel",
     "state": {
      "_model_module": "@jupyter-widgets/controls",
      "_model_module_version": "1.5.0",
      "_model_name": "ProgressStyleModel",
      "_view_count": null,
      "_view_module": "@jupyter-widgets/base",
      "_view_module_version": "1.2.0",
      "_view_name": "StyleView",
      "bar_color": null,
      "description_width": ""
     }
    },
    "6254c08108424103b5d29cda108679e6": {
     "model_module": "@jupyter-widgets/base",
     "model_module_version": "1.2.0",
     "model_name": "LayoutModel",
     "state": {
      "_model_module": "@jupyter-widgets/base",
      "_model_module_version": "1.2.0",
      "_model_name": "LayoutModel",
      "_view_count": null,
      "_view_module": "@jupyter-widgets/base",
      "_view_module_version": "1.2.0",
      "_view_name": "LayoutView",
      "align_content": null,
      "align_items": null,
      "align_self": null,
      "border": null,
      "bottom": null,
      "display": null,
      "flex": null,
      "flex_flow": null,
      "grid_area": null,
      "grid_auto_columns": null,
      "grid_auto_flow": null,
      "grid_auto_rows": null,
      "grid_column": null,
      "grid_gap": null,
      "grid_row": null,
      "grid_template_areas": null,
      "grid_template_columns": null,
      "grid_template_rows": null,
      "height": null,
      "justify_content": null,
      "justify_items": null,
      "left": null,
      "margin": null,
      "max_height": null,
      "max_width": null,
      "min_height": null,
      "min_width": null,
      "object_fit": null,
      "object_position": null,
      "order": null,
      "overflow": null,
      "overflow_x": null,
      "overflow_y": null,
      "padding": null,
      "right": null,
      "top": null,
      "visibility": null,
      "width": null
     }
    },
    "6800a571189b46b1b23a8424df6539a3": {
     "model_module": "@jupyter-widgets/base",
     "model_module_version": "1.2.0",
     "model_name": "LayoutModel",
     "state": {
      "_model_module": "@jupyter-widgets/base",
      "_model_module_version": "1.2.0",
      "_model_name": "LayoutModel",
      "_view_count": null,
      "_view_module": "@jupyter-widgets/base",
      "_view_module_version": "1.2.0",
      "_view_name": "LayoutView",
      "align_content": null,
      "align_items": null,
      "align_self": null,
      "border": null,
      "bottom": null,
      "display": null,
      "flex": null,
      "flex_flow": null,
      "grid_area": null,
      "grid_auto_columns": null,
      "grid_auto_flow": null,
      "grid_auto_rows": null,
      "grid_column": null,
      "grid_gap": null,
      "grid_row": null,
      "grid_template_areas": null,
      "grid_template_columns": null,
      "grid_template_rows": null,
      "height": null,
      "justify_content": null,
      "justify_items": null,
      "left": null,
      "margin": null,
      "max_height": null,
      "max_width": null,
      "min_height": null,
      "min_width": null,
      "object_fit": null,
      "object_position": null,
      "order": null,
      "overflow": null,
      "overflow_x": null,
      "overflow_y": null,
      "padding": null,
      "right": null,
      "top": null,
      "visibility": null,
      "width": null
     }
    },
    "69c15caf1ab44ca2ac4d516737fbc7c4": {
     "model_module": "@jupyter-widgets/controls",
     "model_module_version": "1.5.0",
     "model_name": "DescriptionStyleModel",
     "state": {
      "_model_module": "@jupyter-widgets/controls",
      "_model_module_version": "1.5.0",
      "_model_name": "DescriptionStyleModel",
      "_view_count": null,
      "_view_module": "@jupyter-widgets/base",
      "_view_module_version": "1.2.0",
      "_view_name": "StyleView",
      "description_width": ""
     }
    },
    "6bac148d0b174062a4c9dd1f05571eb8": {
     "model_module": "@jupyter-widgets/controls",
     "model_module_version": "1.5.0",
     "model_name": "DescriptionStyleModel",
     "state": {
      "_model_module": "@jupyter-widgets/controls",
      "_model_module_version": "1.5.0",
      "_model_name": "DescriptionStyleModel",
      "_view_count": null,
      "_view_module": "@jupyter-widgets/base",
      "_view_module_version": "1.2.0",
      "_view_name": "StyleView",
      "description_width": ""
     }
    },
    "6d8ce43d1c2c4330b748d4974c80b926": {
     "model_module": "@jupyter-widgets/controls",
     "model_module_version": "1.5.0",
     "model_name": "HTMLModel",
     "state": {
      "_dom_classes": [],
      "_model_module": "@jupyter-widgets/controls",
      "_model_module_version": "1.5.0",
      "_model_name": "HTMLModel",
      "_view_count": null,
      "_view_module": "@jupyter-widgets/controls",
      "_view_module_version": "1.5.0",
      "_view_name": "HTMLView",
      "description": "",
      "description_tooltip": null,
      "layout": "IPY_MODEL_93cad2733d804445807101895a6d6d33",
      "placeholder": "​",
      "style": "IPY_MODEL_d2ba75168d7142cea2a0af2f7733fd50",
      "value": " 456k/456k [00:00&lt;00:00, 711kB/s]"
     }
    },
    "724d5cd82519464b9eacee416616b536": {
     "model_module": "@jupyter-widgets/controls",
     "model_module_version": "1.5.0",
     "model_name": "HTMLModel",
     "state": {
      "_dom_classes": [],
      "_model_module": "@jupyter-widgets/controls",
      "_model_module_version": "1.5.0",
      "_model_name": "HTMLModel",
      "_view_count": null,
      "_view_module": "@jupyter-widgets/controls",
      "_view_module_version": "1.5.0",
      "_view_name": "HTMLView",
      "description": "",
      "description_tooltip": null,
      "layout": "IPY_MODEL_36a2a2929d794007b300261e30a81d76",
      "placeholder": "​",
      "style": "IPY_MODEL_6bac148d0b174062a4c9dd1f05571eb8",
      "value": " 480/480 [00:00&lt;00:00, 23.8kB/s]"
     }
    },
    "74f5931565c641859904ff77dcc5193d": {
     "model_module": "@jupyter-widgets/controls",
     "model_module_version": "1.5.0",
     "model_name": "HTMLModel",
     "state": {
      "_dom_classes": [],
      "_model_module": "@jupyter-widgets/controls",
      "_model_module_version": "1.5.0",
      "_model_name": "HTMLModel",
      "_view_count": null,
      "_view_module": "@jupyter-widgets/controls",
      "_view_module_version": "1.5.0",
      "_view_name": "HTMLView",
      "description": "",
      "description_tooltip": null,
      "layout": "IPY_MODEL_f4a7005ad3244fa29ccaf0b9d02868f6",
      "placeholder": "​",
      "style": "IPY_MODEL_c3b1351ff8cd4f1c808bccb196bf8879",
      "value": "Downloading (…)lve/main/config.json: 100%"
     }
    },
    "74f982b63deb4382a8eb0ff8fa1ca0cc": {
     "model_module": "@jupyter-widgets/controls",
     "model_module_version": "1.5.0",
     "model_name": "HBoxModel",
     "state": {
      "_dom_classes": [],
      "_model_module": "@jupyter-widgets/controls",
      "_model_module_version": "1.5.0",
      "_model_name": "HBoxModel",
      "_view_count": null,
      "_view_module": "@jupyter-widgets/controls",
      "_view_module_version": "1.5.0",
      "_view_name": "HBoxView",
      "box_style": "",
      "children": [
       "IPY_MODEL_5ebf7ea3cefb42bc872258da854a81a5",
       "IPY_MODEL_b353336b1d9d4edaa5964be257ded2e3",
       "IPY_MODEL_80ac61cff3e64338840d824a9969cb2c"
      ],
      "layout": "IPY_MODEL_94e0d3671b444f26ada50b219ed4bd1c"
     }
    },
    "7a6813d2cf224a4f8002ae0eb9404558": {
     "model_module": "@jupyter-widgets/controls",
     "model_module_version": "1.5.0",
     "model_name": "DescriptionStyleModel",
     "state": {
      "_model_module": "@jupyter-widgets/controls",
      "_model_module_version": "1.5.0",
      "_model_name": "DescriptionStyleModel",
      "_view_count": null,
      "_view_module": "@jupyter-widgets/base",
      "_view_module_version": "1.2.0",
      "_view_name": "StyleView",
      "description_width": ""
     }
    },
    "80ac61cff3e64338840d824a9969cb2c": {
     "model_module": "@jupyter-widgets/controls",
     "model_module_version": "1.5.0",
     "model_name": "HTMLModel",
     "state": {
      "_dom_classes": [],
      "_model_module": "@jupyter-widgets/controls",
      "_model_module_version": "1.5.0",
      "_model_name": "HTMLModel",
      "_view_count": null,
      "_view_module": "@jupyter-widgets/controls",
      "_view_module_version": "1.5.0",
      "_view_name": "HTMLView",
      "description": "",
      "description_tooltip": null,
      "layout": "IPY_MODEL_a33720a4a48944819ded548e09c7a50d",
      "placeholder": "​",
      "style": "IPY_MODEL_3936f3f0af484ba6ae5e9bcd0bdfd6a4",
      "value": " 899k/899k [00:00&lt;00:00, 1.05MB/s]"
     }
    },
    "84ace9414c2244268462c59fe8471033": {
     "model_module": "@jupyter-widgets/base",
     "model_module_version": "1.2.0",
     "model_name": "LayoutModel",
     "state": {
      "_model_module": "@jupyter-widgets/base",
      "_model_module_version": "1.2.0",
      "_model_name": "LayoutModel",
      "_view_count": null,
      "_view_module": "@jupyter-widgets/base",
      "_view_module_version": "1.2.0",
      "_view_name": "LayoutView",
      "align_content": null,
      "align_items": null,
      "align_self": null,
      "border": null,
      "bottom": null,
      "display": null,
      "flex": "2",
      "flex_flow": null,
      "grid_area": null,
      "grid_auto_columns": null,
      "grid_auto_flow": null,
      "grid_auto_rows": null,
      "grid_column": null,
      "grid_gap": null,
      "grid_row": null,
      "grid_template_areas": null,
      "grid_template_columns": null,
      "grid_template_rows": null,
      "height": null,
      "justify_content": null,
      "justify_items": null,
      "left": null,
      "margin": null,
      "max_height": null,
      "max_width": null,
      "min_height": null,
      "min_width": null,
      "object_fit": null,
      "object_position": null,
      "order": null,
      "overflow": null,
      "overflow_x": null,
      "overflow_y": null,
      "padding": null,
      "right": null,
      "top": null,
      "visibility": null,
      "width": null
     }
    },
    "87985a4b4ff64ca58bfcbd86bc96630f": {
     "model_module": "@jupyter-widgets/base",
     "model_module_version": "1.2.0",
     "model_name": "LayoutModel",
     "state": {
      "_model_module": "@jupyter-widgets/base",
      "_model_module_version": "1.2.0",
      "_model_name": "LayoutModel",
      "_view_count": null,
      "_view_module": "@jupyter-widgets/base",
      "_view_module_version": "1.2.0",
      "_view_name": "LayoutView",
      "align_content": null,
      "align_items": null,
      "align_self": null,
      "border": null,
      "bottom": null,
      "display": null,
      "flex": null,
      "flex_flow": null,
      "grid_area": null,
      "grid_auto_columns": null,
      "grid_auto_flow": null,
      "grid_auto_rows": null,
      "grid_column": null,
      "grid_gap": null,
      "grid_row": null,
      "grid_template_areas": null,
      "grid_template_columns": null,
      "grid_template_rows": null,
      "height": null,
      "justify_content": null,
      "justify_items": null,
      "left": null,
      "margin": null,
      "max_height": null,
      "max_width": null,
      "min_height": null,
      "min_width": null,
      "object_fit": null,
      "object_position": null,
      "order": null,
      "overflow": null,
      "overflow_x": null,
      "overflow_y": null,
      "padding": null,
      "right": null,
      "top": null,
      "visibility": null,
      "width": null
     }
    },
    "8aea149d4ecb465c837fc6a59aacb431": {
     "model_module": "@jupyter-widgets/base",
     "model_module_version": "1.2.0",
     "model_name": "LayoutModel",
     "state": {
      "_model_module": "@jupyter-widgets/base",
      "_model_module_version": "1.2.0",
      "_model_name": "LayoutModel",
      "_view_count": null,
      "_view_module": "@jupyter-widgets/base",
      "_view_module_version": "1.2.0",
      "_view_name": "LayoutView",
      "align_content": null,
      "align_items": null,
      "align_self": null,
      "border": null,
      "bottom": null,
      "display": "inline-flex",
      "flex": null,
      "flex_flow": "row wrap",
      "grid_area": null,
      "grid_auto_columns": null,
      "grid_auto_flow": null,
      "grid_auto_rows": null,
      "grid_column": null,
      "grid_gap": null,
      "grid_row": null,
      "grid_template_areas": null,
      "grid_template_columns": null,
      "grid_template_rows": null,
      "height": null,
      "justify_content": null,
      "justify_items": null,
      "left": null,
      "margin": null,
      "max_height": null,
      "max_width": null,
      "min_height": null,
      "min_width": null,
      "object_fit": null,
      "object_position": null,
      "order": null,
      "overflow": null,
      "overflow_x": null,
      "overflow_y": null,
      "padding": null,
      "right": null,
      "top": null,
      "visibility": null,
      "width": "100%"
     }
    },
    "8cad3072b3024fd983b2f734a85c6d7a": {
     "model_module": "@jupyter-widgets/controls",
     "model_module_version": "1.5.0",
     "model_name": "HTMLModel",
     "state": {
      "_dom_classes": [],
      "_model_module": "@jupyter-widgets/controls",
      "_model_module_version": "1.5.0",
      "_model_name": "HTMLModel",
      "_view_count": null,
      "_view_module": "@jupyter-widgets/controls",
      "_view_module_version": "1.5.0",
      "_view_name": "HTMLView",
      "description": "",
      "description_tooltip": null,
      "layout": "IPY_MODEL_24251d11302b48d2a6c583309a67db51",
      "placeholder": "​",
      "style": "IPY_MODEL_1f3cf194a3ac4fd4b615824580cbb353",
      "value": " 534/534 [05:03&lt;00:00,  1.76it/s, loss=0.416, v_num=0-28, lr=4.21e-8, val_loss=0.399]"
     }
    },
    "8d4d8edd9e0d4597ac5a75740d26122a": {
     "model_module": "@jupyter-widgets/controls",
     "model_module_version": "1.5.0",
     "model_name": "ProgressStyleModel",
     "state": {
      "_model_module": "@jupyter-widgets/controls",
      "_model_module_version": "1.5.0",
      "_model_name": "ProgressStyleModel",
      "_view_count": null,
      "_view_module": "@jupyter-widgets/base",
      "_view_module_version": "1.2.0",
      "_view_name": "StyleView",
      "bar_color": null,
      "description_width": ""
     }
    },
    "93cad2733d804445807101895a6d6d33": {
     "model_module": "@jupyter-widgets/base",
     "model_module_version": "1.2.0",
     "model_name": "LayoutModel",
     "state": {
      "_model_module": "@jupyter-widgets/base",
      "_model_module_version": "1.2.0",
      "_model_name": "LayoutModel",
      "_view_count": null,
      "_view_module": "@jupyter-widgets/base",
      "_view_module_version": "1.2.0",
      "_view_name": "LayoutView",
      "align_content": null,
      "align_items": null,
      "align_self": null,
      "border": null,
      "bottom": null,
      "display": null,
      "flex": null,
      "flex_flow": null,
      "grid_area": null,
      "grid_auto_columns": null,
      "grid_auto_flow": null,
      "grid_auto_rows": null,
      "grid_column": null,
      "grid_gap": null,
      "grid_row": null,
      "grid_template_areas": null,
      "grid_template_columns": null,
      "grid_template_rows": null,
      "height": null,
      "justify_content": null,
      "justify_items": null,
      "left": null,
      "margin": null,
      "max_height": null,
      "max_width": null,
      "min_height": null,
      "min_width": null,
      "object_fit": null,
      "object_position": null,
      "order": null,
      "overflow": null,
      "overflow_x": null,
      "overflow_y": null,
      "padding": null,
      "right": null,
      "top": null,
      "visibility": null,
      "width": null
     }
    },
    "94e0d3671b444f26ada50b219ed4bd1c": {
     "model_module": "@jupyter-widgets/base",
     "model_module_version": "1.2.0",
     "model_name": "LayoutModel",
     "state": {
      "_model_module": "@jupyter-widgets/base",
      "_model_module_version": "1.2.0",
      "_model_name": "LayoutModel",
      "_view_count": null,
      "_view_module": "@jupyter-widgets/base",
      "_view_module_version": "1.2.0",
      "_view_name": "LayoutView",
      "align_content": null,
      "align_items": null,
      "align_self": null,
      "border": null,
      "bottom": null,
      "display": null,
      "flex": null,
      "flex_flow": null,
      "grid_area": null,
      "grid_auto_columns": null,
      "grid_auto_flow": null,
      "grid_auto_rows": null,
      "grid_column": null,
      "grid_gap": null,
      "grid_row": null,
      "grid_template_areas": null,
      "grid_template_columns": null,
      "grid_template_rows": null,
      "height": null,
      "justify_content": null,
      "justify_items": null,
      "left": null,
      "margin": null,
      "max_height": null,
      "max_width": null,
      "min_height": null,
      "min_width": null,
      "object_fit": null,
      "object_position": null,
      "order": null,
      "overflow": null,
      "overflow_x": null,
      "overflow_y": null,
      "padding": null,
      "right": null,
      "top": null,
      "visibility": null,
      "width": null
     }
    },
    "9b46e27aa0cb484fb9c5b7b0e1aa59ae": {
     "model_module": "@jupyter-widgets/controls",
     "model_module_version": "1.5.0",
     "model_name": "ProgressStyleModel",
     "state": {
      "_model_module": "@jupyter-widgets/controls",
      "_model_module_version": "1.5.0",
      "_model_name": "ProgressStyleModel",
      "_view_count": null,
      "_view_module": "@jupyter-widgets/base",
      "_view_module_version": "1.2.0",
      "_view_name": "StyleView",
      "bar_color": null,
      "description_width": ""
     }
    },
    "9d9f98a3bf1d4a8a8454af101e529ed4": {
     "model_module": "@jupyter-widgets/base",
     "model_module_version": "1.2.0",
     "model_name": "LayoutModel",
     "state": {
      "_model_module": "@jupyter-widgets/base",
      "_model_module_version": "1.2.0",
      "_model_name": "LayoutModel",
      "_view_count": null,
      "_view_module": "@jupyter-widgets/base",
      "_view_module_version": "1.2.0",
      "_view_name": "LayoutView",
      "align_content": null,
      "align_items": null,
      "align_self": null,
      "border": null,
      "bottom": null,
      "display": null,
      "flex": null,
      "flex_flow": null,
      "grid_area": null,
      "grid_auto_columns": null,
      "grid_auto_flow": null,
      "grid_auto_rows": null,
      "grid_column": null,
      "grid_gap": null,
      "grid_row": null,
      "grid_template_areas": null,
      "grid_template_columns": null,
      "grid_template_rows": null,
      "height": null,
      "justify_content": null,
      "justify_items": null,
      "left": null,
      "margin": null,
      "max_height": null,
      "max_width": null,
      "min_height": null,
      "min_width": null,
      "object_fit": null,
      "object_position": null,
      "order": null,
      "overflow": null,
      "overflow_x": null,
      "overflow_y": null,
      "padding": null,
      "right": null,
      "top": null,
      "visibility": null,
      "width": null
     }
    },
    "a33720a4a48944819ded548e09c7a50d": {
     "model_module": "@jupyter-widgets/base",
     "model_module_version": "1.2.0",
     "model_name": "LayoutModel",
     "state": {
      "_model_module": "@jupyter-widgets/base",
      "_model_module_version": "1.2.0",
      "_model_name": "LayoutModel",
      "_view_count": null,
      "_view_module": "@jupyter-widgets/base",
      "_view_module_version": "1.2.0",
      "_view_name": "LayoutView",
      "align_content": null,
      "align_items": null,
      "align_self": null,
      "border": null,
      "bottom": null,
      "display": null,
      "flex": null,
      "flex_flow": null,
      "grid_area": null,
      "grid_auto_columns": null,
      "grid_auto_flow": null,
      "grid_auto_rows": null,
      "grid_column": null,
      "grid_gap": null,
      "grid_row": null,
      "grid_template_areas": null,
      "grid_template_columns": null,
      "grid_template_rows": null,
      "height": null,
      "justify_content": null,
      "justify_items": null,
      "left": null,
      "margin": null,
      "max_height": null,
      "max_width": null,
      "min_height": null,
      "min_width": null,
      "object_fit": null,
      "object_position": null,
      "order": null,
      "overflow": null,
      "overflow_x": null,
      "overflow_y": null,
      "padding": null,
      "right": null,
      "top": null,
      "visibility": null,
      "width": null
     }
    },
    "a4e3b4ec81024dc1bb3accb65f929716": {
     "model_module": "@jupyter-widgets/controls",
     "model_module_version": "1.5.0",
     "model_name": "DescriptionStyleModel",
     "state": {
      "_model_module": "@jupyter-widgets/controls",
      "_model_module_version": "1.5.0",
      "_model_name": "DescriptionStyleModel",
      "_view_count": null,
      "_view_module": "@jupyter-widgets/base",
      "_view_module_version": "1.2.0",
      "_view_name": "StyleView",
      "description_width": ""
     }
    },
    "a5dfdde9637649f38598a36afa7fd486": {
     "model_module": "@jupyter-widgets/controls",
     "model_module_version": "1.5.0",
     "model_name": "ProgressStyleModel",
     "state": {
      "_model_module": "@jupyter-widgets/controls",
      "_model_module_version": "1.5.0",
      "_model_name": "ProgressStyleModel",
      "_view_count": null,
      "_view_module": "@jupyter-widgets/base",
      "_view_module_version": "1.2.0",
      "_view_name": "StyleView",
      "bar_color": null,
      "description_width": ""
     }
    },
    "b05957198be34929944bb9623c7adb4a": {
     "model_module": "@jupyter-widgets/base",
     "model_module_version": "1.2.0",
     "model_name": "LayoutModel",
     "state": {
      "_model_module": "@jupyter-widgets/base",
      "_model_module_version": "1.2.0",
      "_model_name": "LayoutModel",
      "_view_count": null,
      "_view_module": "@jupyter-widgets/base",
      "_view_module_version": "1.2.0",
      "_view_name": "LayoutView",
      "align_content": null,
      "align_items": null,
      "align_self": null,
      "border": null,
      "bottom": null,
      "display": null,
      "flex": null,
      "flex_flow": null,
      "grid_area": null,
      "grid_auto_columns": null,
      "grid_auto_flow": null,
      "grid_auto_rows": null,
      "grid_column": null,
      "grid_gap": null,
      "grid_row": null,
      "grid_template_areas": null,
      "grid_template_columns": null,
      "grid_template_rows": null,
      "height": null,
      "justify_content": null,
      "justify_items": null,
      "left": null,
      "margin": null,
      "max_height": null,
      "max_width": null,
      "min_height": null,
      "min_width": null,
      "object_fit": null,
      "object_position": null,
      "order": null,
      "overflow": null,
      "overflow_x": null,
      "overflow_y": null,
      "padding": null,
      "right": null,
      "top": null,
      "visibility": null,
      "width": null
     }
    },
    "b2b6b1eda37f4f84ba7b829f8e9c046a": {
     "model_module": "@jupyter-widgets/controls",
     "model_module_version": "1.5.0",
     "model_name": "DescriptionStyleModel",
     "state": {
      "_model_module": "@jupyter-widgets/controls",
      "_model_module_version": "1.5.0",
      "_model_name": "DescriptionStyleModel",
      "_view_count": null,
      "_view_module": "@jupyter-widgets/base",
      "_view_module_version": "1.2.0",
      "_view_name": "StyleView",
      "description_width": ""
     }
    },
    "b353336b1d9d4edaa5964be257ded2e3": {
     "model_module": "@jupyter-widgets/controls",
     "model_module_version": "1.5.0",
     "model_name": "FloatProgressModel",
     "state": {
      "_dom_classes": [],
      "_model_module": "@jupyter-widgets/controls",
      "_model_module_version": "1.5.0",
      "_model_name": "FloatProgressModel",
      "_view_count": null,
      "_view_module": "@jupyter-widgets/controls",
      "_view_module_version": "1.5.0",
      "_view_name": "ProgressView",
      "bar_style": "success",
      "description": "",
      "description_tooltip": null,
      "layout": "IPY_MODEL_9d9f98a3bf1d4a8a8454af101e529ed4",
      "max": 898823,
      "min": 0,
      "orientation": "horizontal",
      "style": "IPY_MODEL_9b46e27aa0cb484fb9c5b7b0e1aa59ae",
      "value": 898823
     }
    },
    "be88cdf9c38641ffb6870c9780dc0cde": {
     "model_module": "@jupyter-widgets/controls",
     "model_module_version": "1.5.0",
     "model_name": "DescriptionStyleModel",
     "state": {
      "_model_module": "@jupyter-widgets/controls",
      "_model_module_version": "1.5.0",
      "_model_name": "DescriptionStyleModel",
      "_view_count": null,
      "_view_module": "@jupyter-widgets/base",
      "_view_module_version": "1.2.0",
      "_view_name": "StyleView",
      "description_width": ""
     }
    },
    "c3b1351ff8cd4f1c808bccb196bf8879": {
     "model_module": "@jupyter-widgets/controls",
     "model_module_version": "1.5.0",
     "model_name": "DescriptionStyleModel",
     "state": {
      "_model_module": "@jupyter-widgets/controls",
      "_model_module_version": "1.5.0",
      "_model_name": "DescriptionStyleModel",
      "_view_count": null,
      "_view_module": "@jupyter-widgets/base",
      "_view_module_version": "1.2.0",
      "_view_name": "StyleView",
      "description_width": ""
     }
    },
    "c4faad3960424194bc0418765e820cd3": {
     "model_module": "@jupyter-widgets/base",
     "model_module_version": "1.2.0",
     "model_name": "LayoutModel",
     "state": {
      "_model_module": "@jupyter-widgets/base",
      "_model_module_version": "1.2.0",
      "_model_name": "LayoutModel",
      "_view_count": null,
      "_view_module": "@jupyter-widgets/base",
      "_view_module_version": "1.2.0",
      "_view_name": "LayoutView",
      "align_content": null,
      "align_items": null,
      "align_self": null,
      "border": null,
      "bottom": null,
      "display": "inline-flex",
      "flex": null,
      "flex_flow": "row wrap",
      "grid_area": null,
      "grid_auto_columns": null,
      "grid_auto_flow": null,
      "grid_auto_rows": null,
      "grid_column": null,
      "grid_gap": null,
      "grid_row": null,
      "grid_template_areas": null,
      "grid_template_columns": null,
      "grid_template_rows": null,
      "height": null,
      "justify_content": null,
      "justify_items": null,
      "left": null,
      "margin": null,
      "max_height": null,
      "max_width": null,
      "min_height": null,
      "min_width": null,
      "object_fit": null,
      "object_position": null,
      "order": null,
      "overflow": null,
      "overflow_x": null,
      "overflow_y": null,
      "padding": null,
      "right": null,
      "top": null,
      "visibility": "hidden",
      "width": "100%"
     }
    },
    "ce5dcec8aa84430b8a8de01a37ca587b": {
     "model_module": "@jupyter-widgets/controls",
     "model_module_version": "1.5.0",
     "model_name": "DescriptionStyleModel",
     "state": {
      "_model_module": "@jupyter-widgets/controls",
      "_model_module_version": "1.5.0",
      "_model_name": "DescriptionStyleModel",
      "_view_count": null,
      "_view_module": "@jupyter-widgets/base",
      "_view_module_version": "1.2.0",
      "_view_name": "StyleView",
      "description_width": ""
     }
    },
    "cfcebb73d82e4335aa2827f9de58cc43": {
     "model_module": "@jupyter-widgets/base",
     "model_module_version": "1.2.0",
     "model_name": "LayoutModel",
     "state": {
      "_model_module": "@jupyter-widgets/base",
      "_model_module_version": "1.2.0",
      "_model_name": "LayoutModel",
      "_view_count": null,
      "_view_module": "@jupyter-widgets/base",
      "_view_module_version": "1.2.0",
      "_view_name": "LayoutView",
      "align_content": null,
      "align_items": null,
      "align_self": null,
      "border": null,
      "bottom": null,
      "display": null,
      "flex": null,
      "flex_flow": null,
      "grid_area": null,
      "grid_auto_columns": null,
      "grid_auto_flow": null,
      "grid_auto_rows": null,
      "grid_column": null,
      "grid_gap": null,
      "grid_row": null,
      "grid_template_areas": null,
      "grid_template_columns": null,
      "grid_template_rows": null,
      "height": null,
      "justify_content": null,
      "justify_items": null,
      "left": null,
      "margin": null,
      "max_height": null,
      "max_width": null,
      "min_height": null,
      "min_width": null,
      "object_fit": null,
      "object_position": null,
      "order": null,
      "overflow": null,
      "overflow_x": null,
      "overflow_y": null,
      "padding": null,
      "right": null,
      "top": null,
      "visibility": null,
      "width": null
     }
    },
    "d2ba75168d7142cea2a0af2f7733fd50": {
     "model_module": "@jupyter-widgets/controls",
     "model_module_version": "1.5.0",
     "model_name": "DescriptionStyleModel",
     "state": {
      "_model_module": "@jupyter-widgets/controls",
      "_model_module_version": "1.5.0",
      "_model_name": "DescriptionStyleModel",
      "_view_count": null,
      "_view_module": "@jupyter-widgets/base",
      "_view_module_version": "1.2.0",
      "_view_name": "StyleView",
      "description_width": ""
     }
    },
    "d2d29a562cee469fa05028f6a81eb4c5": {
     "model_module": "@jupyter-widgets/controls",
     "model_module_version": "1.5.0",
     "model_name": "HTMLModel",
     "state": {
      "_dom_classes": [],
      "_model_module": "@jupyter-widgets/controls",
      "_model_module_version": "1.5.0",
      "_model_name": "HTMLModel",
      "_view_count": null,
      "_view_module": "@jupyter-widgets/controls",
      "_view_module_version": "1.5.0",
      "_view_name": "HTMLView",
      "description": "",
      "description_tooltip": null,
      "layout": "IPY_MODEL_6254c08108424103b5d29cda108679e6",
      "placeholder": "​",
      "style": "IPY_MODEL_3ef30483dbfa40869f1d7361e31269be",
      "value": "Epoch 0: 100%"
     }
    },
    "d4c77d738ecb4daaac4f24a926ce6237": {
     "model_module": "@jupyter-widgets/controls",
     "model_module_version": "1.5.0",
     "model_name": "FloatProgressModel",
     "state": {
      "_dom_classes": [],
      "_model_module": "@jupyter-widgets/controls",
      "_model_module_version": "1.5.0",
      "_model_name": "FloatProgressModel",
      "_view_count": null,
      "_view_module": "@jupyter-widgets/controls",
      "_view_module_version": "1.5.0",
      "_view_name": "ProgressView",
      "bar_style": "success",
      "description": "",
      "description_tooltip": null,
      "layout": "IPY_MODEL_87985a4b4ff64ca58bfcbd86bc96630f",
      "max": 480,
      "min": 0,
      "orientation": "horizontal",
      "style": "IPY_MODEL_52d1dcee3b0b4d5c8831d1ba733abf52",
      "value": 480
     }
    },
    "d9e39ea83f0e4458a66438bed7bd7ee0": {
     "model_module": "@jupyter-widgets/base",
     "model_module_version": "1.2.0",
     "model_name": "LayoutModel",
     "state": {
      "_model_module": "@jupyter-widgets/base",
      "_model_module_version": "1.2.0",
      "_model_name": "LayoutModel",
      "_view_count": null,
      "_view_module": "@jupyter-widgets/base",
      "_view_module_version": "1.2.0",
      "_view_name": "LayoutView",
      "align_content": null,
      "align_items": null,
      "align_self": null,
      "border": null,
      "bottom": null,
      "display": null,
      "flex": "2",
      "flex_flow": null,
      "grid_area": null,
      "grid_auto_columns": null,
      "grid_auto_flow": null,
      "grid_auto_rows": null,
      "grid_column": null,
      "grid_gap": null,
      "grid_row": null,
      "grid_template_areas": null,
      "grid_template_columns": null,
      "grid_template_rows": null,
      "height": null,
      "justify_content": null,
      "justify_items": null,
      "left": null,
      "margin": null,
      "max_height": null,
      "max_width": null,
      "min_height": null,
      "min_width": null,
      "object_fit": null,
      "object_position": null,
      "order": null,
      "overflow": null,
      "overflow_x": null,
      "overflow_y": null,
      "padding": null,
      "right": null,
      "top": null,
      "visibility": null,
      "width": null
     }
    },
    "daa19bb32c184134b9ecde93f99ae016": {
     "model_module": "@jupyter-widgets/base",
     "model_module_version": "1.2.0",
     "model_name": "LayoutModel",
     "state": {
      "_model_module": "@jupyter-widgets/base",
      "_model_module_version": "1.2.0",
      "_model_name": "LayoutModel",
      "_view_count": null,
      "_view_module": "@jupyter-widgets/base",
      "_view_module_version": "1.2.0",
      "_view_name": "LayoutView",
      "align_content": null,
      "align_items": null,
      "align_self": null,
      "border": null,
      "bottom": null,
      "display": null,
      "flex": null,
      "flex_flow": null,
      "grid_area": null,
      "grid_auto_columns": null,
      "grid_auto_flow": null,
      "grid_auto_rows": null,
      "grid_column": null,
      "grid_gap": null,
      "grid_row": null,
      "grid_template_areas": null,
      "grid_template_columns": null,
      "grid_template_rows": null,
      "height": null,
      "justify_content": null,
      "justify_items": null,
      "left": null,
      "margin": null,
      "max_height": null,
      "max_width": null,
      "min_height": null,
      "min_width": null,
      "object_fit": null,
      "object_position": null,
      "order": null,
      "overflow": null,
      "overflow_x": null,
      "overflow_y": null,
      "padding": null,
      "right": null,
      "top": null,
      "visibility": null,
      "width": null
     }
    },
    "e1ad1c856bb4479f80a07277acef0995": {
     "model_module": "@jupyter-widgets/controls",
     "model_module_version": "1.5.0",
     "model_name": "DescriptionStyleModel",
     "state": {
      "_model_module": "@jupyter-widgets/controls",
      "_model_module_version": "1.5.0",
      "_model_name": "DescriptionStyleModel",
      "_view_count": null,
      "_view_module": "@jupyter-widgets/base",
      "_view_module_version": "1.2.0",
      "_view_name": "StyleView",
      "description_width": ""
     }
    },
    "e59834e844b74ab8b8f301399e6ce608": {
     "model_module": "@jupyter-widgets/controls",
     "model_module_version": "1.5.0",
     "model_name": "HBoxModel",
     "state": {
      "_dom_classes": [],
      "_model_module": "@jupyter-widgets/controls",
      "_model_module_version": "1.5.0",
      "_model_name": "HBoxModel",
      "_view_count": null,
      "_view_module": "@jupyter-widgets/controls",
      "_view_module_version": "1.5.0",
      "_view_name": "HBoxView",
      "box_style": "",
      "children": [
       "IPY_MODEL_d2d29a562cee469fa05028f6a81eb4c5",
       "IPY_MODEL_eca3fcd84bce43748a216933ea2835ad",
       "IPY_MODEL_8cad3072b3024fd983b2f734a85c6d7a"
      ],
      "layout": "IPY_MODEL_0f65709b212249b3ab3db9d728a11256"
     }
    },
    "e822248f17644caca030148e9c8be4ff": {
     "model_module": "@jupyter-widgets/controls",
     "model_module_version": "1.5.0",
     "model_name": "HTMLModel",
     "state": {
      "_dom_classes": [],
      "_model_module": "@jupyter-widgets/controls",
      "_model_module_version": "1.5.0",
      "_model_name": "HTMLModel",
      "_view_count": null,
      "_view_module": "@jupyter-widgets/controls",
      "_view_module_version": "1.5.0",
      "_view_name": "HTMLView",
      "description": "",
      "description_tooltip": null,
      "layout": "IPY_MODEL_ed183743d31f45378e49c90703d3ac19",
      "placeholder": "​",
      "style": "IPY_MODEL_e1ad1c856bb4479f80a07277acef0995",
      "value": "Testing DataLoader 0: 100%"
     }
    },
    "e82cb435f104461da5b8252fa1d25244": {
     "model_module": "@jupyter-widgets/base",
     "model_module_version": "1.2.0",
     "model_name": "LayoutModel",
     "state": {
      "_model_module": "@jupyter-widgets/base",
      "_model_module_version": "1.2.0",
      "_model_name": "LayoutModel",
      "_view_count": null,
      "_view_module": "@jupyter-widgets/base",
      "_view_module_version": "1.2.0",
      "_view_name": "LayoutView",
      "align_content": null,
      "align_items": null,
      "align_self": null,
      "border": null,
      "bottom": null,
      "display": null,
      "flex": null,
      "flex_flow": null,
      "grid_area": null,
      "grid_auto_columns": null,
      "grid_auto_flow": null,
      "grid_auto_rows": null,
      "grid_column": null,
      "grid_gap": null,
      "grid_row": null,
      "grid_template_areas": null,
      "grid_template_columns": null,
      "grid_template_rows": null,
      "height": null,
      "justify_content": null,
      "justify_items": null,
      "left": null,
      "margin": null,
      "max_height": null,
      "max_width": null,
      "min_height": null,
      "min_width": null,
      "object_fit": null,
      "object_position": null,
      "order": null,
      "overflow": null,
      "overflow_x": null,
      "overflow_y": null,
      "padding": null,
      "right": null,
      "top": null,
      "visibility": null,
      "width": null
     }
    },
    "eca3fcd84bce43748a216933ea2835ad": {
     "model_module": "@jupyter-widgets/controls",
     "model_module_version": "1.5.0",
     "model_name": "FloatProgressModel",
     "state": {
      "_dom_classes": [],
      "_model_module": "@jupyter-widgets/controls",
      "_model_module_version": "1.5.0",
      "_model_name": "FloatProgressModel",
      "_view_count": null,
      "_view_module": "@jupyter-widgets/controls",
      "_view_module_version": "1.5.0",
      "_view_name": "ProgressView",
      "bar_style": "success",
      "description": "",
      "description_tooltip": null,
      "layout": "IPY_MODEL_f2d31daa29cd4e2ea1064d17dbb2884d",
      "max": 534,
      "min": 0,
      "orientation": "horizontal",
      "style": "IPY_MODEL_a5dfdde9637649f38598a36afa7fd486",
      "value": 534
     }
    },
    "ed183743d31f45378e49c90703d3ac19": {
     "model_module": "@jupyter-widgets/base",
     "model_module_version": "1.2.0",
     "model_name": "LayoutModel",
     "state": {
      "_model_module": "@jupyter-widgets/base",
      "_model_module_version": "1.2.0",
      "_model_name": "LayoutModel",
      "_view_count": null,
      "_view_module": "@jupyter-widgets/base",
      "_view_module_version": "1.2.0",
      "_view_name": "LayoutView",
      "align_content": null,
      "align_items": null,
      "align_self": null,
      "border": null,
      "bottom": null,
      "display": null,
      "flex": null,
      "flex_flow": null,
      "grid_area": null,
      "grid_auto_columns": null,
      "grid_auto_flow": null,
      "grid_auto_rows": null,
      "grid_column": null,
      "grid_gap": null,
      "grid_row": null,
      "grid_template_areas": null,
      "grid_template_columns": null,
      "grid_template_rows": null,
      "height": null,
      "justify_content": null,
      "justify_items": null,
      "left": null,
      "margin": null,
      "max_height": null,
      "max_width": null,
      "min_height": null,
      "min_width": null,
      "object_fit": null,
      "object_position": null,
      "order": null,
      "overflow": null,
      "overflow_x": null,
      "overflow_y": null,
      "padding": null,
      "right": null,
      "top": null,
      "visibility": null,
      "width": null
     }
    },
    "f2d31daa29cd4e2ea1064d17dbb2884d": {
     "model_module": "@jupyter-widgets/base",
     "model_module_version": "1.2.0",
     "model_name": "LayoutModel",
     "state": {
      "_model_module": "@jupyter-widgets/base",
      "_model_module_version": "1.2.0",
      "_model_name": "LayoutModel",
      "_view_count": null,
      "_view_module": "@jupyter-widgets/base",
      "_view_module_version": "1.2.0",
      "_view_name": "LayoutView",
      "align_content": null,
      "align_items": null,
      "align_self": null,
      "border": null,
      "bottom": null,
      "display": null,
      "flex": "2",
      "flex_flow": null,
      "grid_area": null,
      "grid_auto_columns": null,
      "grid_auto_flow": null,
      "grid_auto_rows": null,
      "grid_column": null,
      "grid_gap": null,
      "grid_row": null,
      "grid_template_areas": null,
      "grid_template_columns": null,
      "grid_template_rows": null,
      "height": null,
      "justify_content": null,
      "justify_items": null,
      "left": null,
      "margin": null,
      "max_height": null,
      "max_width": null,
      "min_height": null,
      "min_width": null,
      "object_fit": null,
      "object_position": null,
      "order": null,
      "overflow": null,
      "overflow_x": null,
      "overflow_y": null,
      "padding": null,
      "right": null,
      "top": null,
      "visibility": null,
      "width": null
     }
    },
    "f4a7005ad3244fa29ccaf0b9d02868f6": {
     "model_module": "@jupyter-widgets/base",
     "model_module_version": "1.2.0",
     "model_name": "LayoutModel",
     "state": {
      "_model_module": "@jupyter-widgets/base",
      "_model_module_version": "1.2.0",
      "_model_name": "LayoutModel",
      "_view_count": null,
      "_view_module": "@jupyter-widgets/base",
      "_view_module_version": "1.2.0",
      "_view_name": "LayoutView",
      "align_content": null,
      "align_items": null,
      "align_self": null,
      "border": null,
      "bottom": null,
      "display": null,
      "flex": null,
      "flex_flow": null,
      "grid_area": null,
      "grid_auto_columns": null,
      "grid_auto_flow": null,
      "grid_auto_rows": null,
      "grid_column": null,
      "grid_gap": null,
      "grid_row": null,
      "grid_template_areas": null,
      "grid_template_columns": null,
      "grid_template_rows": null,
      "height": null,
      "justify_content": null,
      "justify_items": null,
      "left": null,
      "margin": null,
      "max_height": null,
      "max_width": null,
      "min_height": null,
      "min_width": null,
      "object_fit": null,
      "object_position": null,
      "order": null,
      "overflow": null,
      "overflow_x": null,
      "overflow_y": null,
      "padding": null,
      "right": null,
      "top": null,
      "visibility": null,
      "width": null
     }
    },
    "f91d1b9cdbb34ffb94b10b2078af72a9": {
     "model_module": "@jupyter-widgets/controls",
     "model_module_version": "1.5.0",
     "model_name": "HBoxModel",
     "state": {
      "_dom_classes": [],
      "_model_module": "@jupyter-widgets/controls",
      "_model_module_version": "1.5.0",
      "_model_name": "HBoxModel",
      "_view_count": null,
      "_view_module": "@jupyter-widgets/controls",
      "_view_module_version": "1.5.0",
      "_view_name": "HBoxView",
      "box_style": "",
      "children": [
       "IPY_MODEL_e822248f17644caca030148e9c8be4ff",
       "IPY_MODEL_0049e20fef664d688d46b2a2782e82e9",
       "IPY_MODEL_13eed83cd1364b2990dc6d8644411df4"
      ],
      "layout": "IPY_MODEL_8aea149d4ecb465c837fc6a59aacb431"
     }
    },
    "ffd0753599d1406aa0e5eadc8256b20f": {
     "model_module": "@jupyter-widgets/controls",
     "model_module_version": "1.5.0",
     "model_name": "HTMLModel",
     "state": {
      "_dom_classes": [],
      "_model_module": "@jupyter-widgets/controls",
      "_model_module_version": "1.5.0",
      "_model_name": "HTMLModel",
      "_view_count": null,
      "_view_module": "@jupyter-widgets/controls",
      "_view_module_version": "1.5.0",
      "_view_name": "HTMLView",
      "description": "",
      "description_tooltip": null,
      "layout": "IPY_MODEL_3cd44f079a60495bbb1eaba11cf12e59",
      "placeholder": "​",
      "style": "IPY_MODEL_7a6813d2cf224a4f8002ae0eb9404558",
      "value": " 7/7 [00:01&lt;00:00,  4.87it/s]"
     }
    }
   }
  }
 },
 "nbformat": 4,
 "nbformat_minor": 4
}
